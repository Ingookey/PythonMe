{
 "cells": [
  {
   "cell_type": "code",
   "execution_count": null,
   "metadata": {
    "collapsed": true
   },
   "outputs": [],
   "source": [
    "# 在jupyter环境下，如何安装环境以可使用R?\n",
    "# 1.在R命令中执行以下命令安装\n",
    "#  install.packages('devtools')\n",
    "#  devtools::install_github('IRkernel/IRkernel')\n",
    "#  IRkernel::installspec()\n",
    "# 2.启动jupyter使用即可"
   ]
  },
  {
   "cell_type": "code",
   "execution_count": null,
   "metadata": {
    "collapsed": true
   },
   "outputs": [],
   "source": [
    "# basic data type\n",
    "x <- 78.90\n",
    "y <- 89L\n",
    "print(x)\n",
    "print(y)"
   ]
  },
  {
   "cell_type": "code",
   "execution_count": null,
   "metadata": {
    "collapsed": true
   },
   "outputs": [],
   "source": [
    "# vector\n",
    "vec <- vector(\"character\", length = 8L)\n",
    "vec1 <- 1:4\n",
    "names(vec1) <- c(\"vecx\", \"vecy\", \"vecm\", \"vecn\")\n",
    "vec1\n",
    "\n",
    "vec2 <- 1L:4L\n",
    "vec3 <- c(\"s\", \"ui\", \"io\")\n",
    "\n",
    "vec4 <- c(TRUE, 10, \"io\")\n",
    "as.numeric(vec4)"
   ]
  },
  {
   "cell_type": "code",
   "execution_count": null,
   "metadata": {},
   "outputs": [],
   "source": [
    "# matrix\n",
    "ma1 <- matrix(nrow = 3, ncol = 2) # create null matrix\n",
    "ma2 <- matrix(3:8, nrow = 3, ncol = 2)\n",
    "dim(ma2)\n",
    "attributes(ma2)\n",
    "\n",
    "ma3 <- 1:6\n",
    "ma3\n",
    "dim(ma3) <- c(3, 2) # add one dimension\n",
    "ma3\n",
    "\n",
    "cbind(ma1, ma3) # bind by row\n",
    "rbind(ma1, ma3) # bind by col"
   ]
  },
  {
   "cell_type": "code",
   "execution_count": null,
   "metadata": {},
   "outputs": [],
   "source": [
    "# arrary\n",
    "arr <- array(1:24, dim = c(4,6))\n",
    "arr\n",
    "arr1 <- array(1:24, dim = c(2, 3, 4))\n",
    "arr1"
   ]
  },
  {
   "cell_type": "code",
   "execution_count": null,
   "metadata": {},
   "outputs": [],
   "source": [
    "# list\n",
    "li <- list(\"one\", 12.4, 34L, 2+ 8i, FALSE)\n",
    "li <- list(one = \"on\", two = \"tw\")  # name for rows and columns\n",
    "\n",
    "ma <- matrix(1:6, c(2, 3))\n",
    "dimnames(ma) <- list(c(\"row1\", \"row2\"), c(\"c1\", \"c2\", \"c3\"))\n",
    "ma"
   ]
  },
  {
   "cell_type": "code",
   "execution_count": null,
   "metadata": {},
   "outputs": [],
   "source": [
    "# factor\n",
    "fa <- factor(c(\"male\", \"female\", \"female\", \"male\", \"male\"))\n",
    "fa\n",
    "class(fa)\n",
    "\n",
    "fa1 <- factor(c(\"male\", \"female\", \"female\", \"male\", \"male\"), levels = c(\"male\", \"female\"))\n",
    "fa1\n",
    "table(fa1)\n",
    "unclass(fa1)\n",
    "\n",
    "# missing value\n",
    "# NA, NaN for integer, NaN belong to NA\n",
    "mi <- array(c(1, NA, 2, NA, 3))\n",
    "is.na(mi)\n",
    "is.nan(mi)\n",
    "\n",
    "mi <- array(c(1, NaN, 2, NaN, 3))\n",
    "is.na(mi)  # whether it's NA\n",
    "is.nan(mi) # whether it's NaN"
   ]
  },
  {
   "cell_type": "code",
   "execution_count": null,
   "metadata": {},
   "outputs": [],
   "source": [
    "# data frame\n",
    "df <- data.frame(id = c(1, 2, 3), name = c(\"one\", \"two\", \"three\"), gender = c(TRUE, FALSE, TRUE))\n",
    "df\n",
    "# check the row and column of data frame\n",
    "nrow(df)\n",
    "ncol(df)\n",
    "\n",
    "# other example\n",
    "df <- data.frame(id = c(1, 2, 3, 4), score = c(80, 90, 78, 67))\n",
    "df\n",
    "dfma = data.matrix(df) # convert data frame to matrix\n",
    "dfma"
   ]
  },
  {
   "cell_type": "code",
   "execution_count": null,
   "metadata": {
    "collapsed": true
   },
   "outputs": [],
   "source": [
    "# date & time\n",
    "## date\n",
    "da <- date() # current date & time\n",
    "da # character\n",
    "class(da)\n",
    "da <- Sys.Date()\n",
    "da # Date\n",
    "class(da)\n",
    "\n",
    "da1 <- as.Date(\"2017-03-12\")\n",
    "class(da1)\n",
    "months(da1)\n",
    "weekdays(da1)\n",
    "quarters(da1)\n",
    "julian(da1) # da1 - 1970-01-01\n",
    "\n",
    "da2 <- as.Date(\"2018-03-12\")\n",
    "das = da2 - da1\n",
    "as.numeric(das)\n",
    "# how to convert normal date to standard date\n",
    "x1 <- \"Jan 1, 2015 01:01\"\n",
    "strptime(x1, \"%B %d, %Y %H:$M\")\n",
    "?strptime\n",
    "\n",
    "## time\n",
    "ti <- Sys.time()\n",
    "class(ti)\n",
    "t1 <- as.POSIXlt(ti)\n",
    "#t1\n",
    "#class(t1)\n",
    "names(unclass(t1))\n",
    "t1$yday\n",
    "as.POSIXct(t1)\n",
    "t1"
   ]
  },
  {
   "cell_type": "code",
   "execution_count": null,
   "metadata": {
    "collapsed": true
   },
   "outputs": [],
   "source": []
  },
  {
   "cell_type": "code",
   "execution_count": null,
   "metadata": {
    "collapsed": true
   },
   "outputs": [],
   "source": [
    "A <- matrix(1, 15, 15)\n",
    "A[4,7] <- 0\n",
    "persp(A, expand=0.5)"
   ]
  },
  {
   "cell_type": "code",
   "execution_count": null,
   "metadata": {
    "collapsed": true
   },
   "outputs": [],
   "source": [
    "## Test\n",
    "setwd(\"H:/Projects/AndroidProjs/RMe\")\n",
    "# Create a sequence of probability values incrementing by 0.02.\n",
    "x <- seq(0, 1, by = 0.02)\n",
    "\n",
    "# Choose the mean as 2 and standard deviation as 3.\n",
    "y <- qnorm(x, mean = 2, sd = 1)\n",
    "\n",
    "# Give the chart file a name.\n",
    "png(file = \"qnorm.png\")\n",
    "\n",
    "# Plot the graph.\n",
    "plot(x,y)\n",
    "\n",
    "# Save the file.\n",
    "dev.off()"
   ]
  },
  {
   "cell_type": "code",
   "execution_count": null,
   "metadata": {
    "collapsed": true
   },
   "outputs": [],
   "source": []
  },
  {
   "cell_type": "code",
   "execution_count": null,
   "metadata": {
    "collapsed": true
   },
   "outputs": [],
   "source": [
    "# test csv file\n",
    "print(getwd()) #set and get the working direcotry.\n",
    "setwd(\"H:/Projects/AndroidProjs/RMe\")\n",
    "print(getwd())\n",
    "\n",
    "# create a data frame from .csv file.\n",
    "data <- read.csv(\"inTest.csv\")\n",
    "print(data)\n",
    "\n",
    "# extract data partly from soruce file.\n",
    "info <- subset(data, salary > 600 & dept == \"IT\")\n",
    "#retval <- subset(data, as.Date(start_date) > as.Date(\"2014-01-01\"))\n",
    "print(retval)\n",
    "\n",
    "# write filtered data into a new file.\n",
    "write.csv(retval,\"output.csv\", row.names = FALSE)\n",
    "newdata <- read.csv(\"output.csv\")\n",
    "print(newdata)\n"
   ]
  },
  {
   "cell_type": "code",
   "execution_count": null,
   "metadata": {
    "collapsed": true
   },
   "outputs": [],
   "source": [
    "## read excel file.\n",
    "# set and get the working direcotry.\n",
    "print(getwd())\n",
    "setwd(\"H:/Projects/AndroidProjs/RMe\")\n",
    "print(getwd())\n",
    "\n",
    "# verify the package is installed.\n",
    "any(grepl(\"xlsx\",installed.packages()))\n",
    "\n",
    "# load the library into R workspace.\n",
    "library(\"xlsx\")\n",
    "\n",
    "# read the first worksheet in the file input.xlsx.\n",
    "data <- read.xlsx(\"data.xlsx\", sheetIndex = 2)\n",
    "print(data)"
   ]
  },
  {
   "cell_type": "code",
   "execution_count": null,
   "metadata": {
    "collapsed": true
   },
   "outputs": [],
   "source": []
  }
 ],
 "metadata": {
  "kernelspec": {
   "display_name": "R",
   "language": "R",
   "name": "ir"
  },
  "language_info": {
   "codemirror_mode": "r",
   "file_extension": ".r",
   "mimetype": "text/x-r-source",
   "name": "R",
   "pygments_lexer": "r",
   "version": "3.3.3"
  }
 },
 "nbformat": 4,
 "nbformat_minor": 2
}
