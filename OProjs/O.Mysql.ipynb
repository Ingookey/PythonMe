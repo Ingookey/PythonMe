{
 "cells": [
  {
   "cell_type": "code",
   "execution_count": null,
   "metadata": {
    "collapsed": true
   },
   "outputs": [],
   "source": [
    "mysql\n",
    "\n",
    "# install common\n",
    "How to install mysql on ubuntu?\n",
    "\thttps://www.digitalocean.com/community/tutorials/how-to-install-mysql-on-ubuntu-16-04\n",
    "How to uninstall mysql on ubuntu completely?\n",
    "\thttps://askubuntu.com/questions/640899/how-do-i-uninstall-mysql-completely\n",
    "\n",
    "数据库目录\n",
    "/var/lib/mysql/\n",
    "配置文件\n",
    "/usr/share/mysql（mysql.server命令及配置文件）\n",
    "相关命令\n",
    "/usr/bin（mysqladmin mysqldump等命令）\n",
    "启动脚本\n",
    "/etc/rc.d/init.d/（启动脚本文件mysql的目录）\n",
    "\n",
    "How to start service?\n",
    "service mysql start"
   ]
  },
  {
   "cell_type": "code",
   "execution_count": null,
   "metadata": {
    "collapsed": true
   },
   "outputs": [],
   "source": [
    "Close windows auto update?\n",
    "Win + r -> services.msc -> 找到windows update并双击，然后点击禁用即可；\n"
   ]
  }
 ],
 "metadata": {
  "kernelspec": {
   "display_name": "Python 3",
   "language": "python",
   "name": "python3"
  },
  "language_info": {
   "codemirror_mode": {
    "name": "ipython",
    "version": 3
   },
   "file_extension": ".py",
   "mimetype": "text/x-python",
   "name": "python",
   "nbconvert_exporter": "python",
   "pygments_lexer": "ipython3",
   "version": "3.6.1"
  }
 },
 "nbformat": 4,
 "nbformat_minor": 2
}
