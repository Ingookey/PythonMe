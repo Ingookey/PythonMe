{
 "cells": [
  {
   "cell_type": "code",
   "execution_count": null,
   "metadata": {
    "collapsed": true
   },
   "outputs": [],
   "source": [
    "From: https://zhuanlan.zhihu.com/p/23508637\n",
    "\n",
    "Docker基础操作\n",
    "什么是容器？所谓容器就是Docker中用来运行应用的，Docker的容器很轻量级，但功能很强悍(容器是可读写的)。也没有镜像，镜像简单理解就是容器的只读版本，用来方便存储与交流。\n",
    "\n",
    "如何获取容器？在哪里获取？\n",
    "docker pull ubuntu:14.04 https://store.docker.com/\n",
    "\n",
    "如何查看本机中存在哪些docker镜像?\n",
    "docker images\n",
    "\n",
    "如何运行镜像？\n",
    "docker run -it ubuntu:14.04"
   ]
  },
  {
   "cell_type": "code",
   "execution_count": null,
   "metadata": {
    "collapsed": true
   },
   "outputs": [],
   "source": [
    "将容器转化为镜像\n",
    "\n",
    "查看已经运行过哪些容器，以方便将容器转化为镜像\n",
    "docker ps -a\n",
    "\n",
    "如何将容器转化为一个新的镜像？\n",
    "sudo docker commit -m \"Added nginx from ubuntu14.04\" -a \"saymagic\" 79c761f627f3 saymagic/ubuntu-nginx:v1\n",
    "    -m参数用来来指定提交的说明信息；\n",
    "    -a可以指定用户信息的；\n",
    "    79c761f627f3代表的时容器的id；\n",
    "    saymagic/ubuntu-nginx:v1指定目标镜像的用户名、仓库名和 tag 信息；\n",
    "\n",
    "通过build dockerfile命令来构建镜像？（此时镜像在当前路径）\n",
    "docker build -t=\"saymagic/ubuntu-nginx:v2\" .\n",
    "    1. 新建一个Folder docker.ubuntu, 在其中新建一个Dockerfile，并在其中添加相关命令\n",
    "    2. docker build -t docker.ubuntu .\n",
    "    3. 完成后，执行 docker run -td ubuntu\n",
    "\n",
    "再次运行这个新的镜像？\n",
    "docker run -it saymagic/ubuntu-nginx:v1\n",
    "    "
   ]
  },
  {
   "cell_type": "code",
   "execution_count": null,
   "metadata": {
    "collapsed": true
   },
   "outputs": [],
   "source": [
    "存储镜像\n",
    "\n",
    "首先登陆Docker Hub\n",
    "docker login\n",
    "\n",
    "上传到服务器 https://hub.docker.com/\n",
    "docker push saymagic/ubuntu-nginx:v1"
   ]
  },
  {
   "cell_type": "code",
   "execution_count": null,
   "metadata": {
    "collapsed": true
   },
   "outputs": [],
   "source": [
    "https://www.yiibai.com/docker/\n",
    "    \n",
    "删除不需要的镜像？\n",
    "docker rmi -f image_id   # -f：表示强制删除镜像；image_id：镜像id\n",
    "\n",
    "载入本地的镜像文件（在需要的时候使用docker load将本地保存的镜像再次导入docker中）\n",
    "docker load --input rocketmq.tar 或 docker load < rocketmq.tar\n",
    "\n",
    "保存镜像到本地\n",
    "docker save -o rocketmq.tar rocketmq\n",
    "#-o：指定保存的镜像的名字；rocketmq.tar：保存到本地的镜像名称；rocketmq：镜像名字，通过\"docker images\"查看\n",
    "\n",
    "Docker导入本地镜像\n",
    "有了镜像之后，可以把本地的镜像导入，使用docker import 命令；例如这里下载了一个 alibaba-rocketmq-3.2.6.tar.gz 镜像文件，使用下列命令导入：\n",
    "cat alibaba-rocketmq-3.2.6.tar.gz | docker import - rocketmq:3.2.6(镜像名自己定义)\n",
    "    \n",
    "从宿主机拷贝文件到容器\n",
    "docker cp /opt/test/file.txt container_id:/opt/testnew/      eg: docker cp ./Dockerfile ad6fa6c453ae:/home/\n",
    "从容器拷贝文件到宿主机\n",
    "docker cp container_id:/opt/testnew/file.txt /opt/test/      eg: docker cp ad6fa6c453ae:/home/Dockerfile H:/"
   ]
  },
  {
   "cell_type": "code",
   "execution_count": null,
   "metadata": {
    "collapsed": true
   },
   "outputs": [],
   "source": [
    "apt-get install net-tools #   ifconfig\n",
    "apt-get install iputils-ping #  ping\n",
    "apt-get install iproute2 #  ip\n"
   ]
  },
  {
   "cell_type": "code",
   "execution_count": null,
   "metadata": {
    "collapsed": true
   },
   "outputs": [],
   "source": []
  }
 ],
 "metadata": {
  "kernelspec": {
   "display_name": "Python 3",
   "language": "python",
   "name": "python3"
  },
  "language_info": {
   "codemirror_mode": {
    "name": "ipython",
    "version": 3
   },
   "file_extension": ".py",
   "mimetype": "text/x-python",
   "name": "python",
   "nbconvert_exporter": "python",
   "pygments_lexer": "ipython3",
   "version": "3.6.1"
  }
 },
 "nbformat": 4,
 "nbformat_minor": 2
}
