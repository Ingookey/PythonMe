{
 "cells": [
  {
   "cell_type": "markdown",
   "metadata": {},
   "source": [
    "## Models"
   ]
  },
  {
   "cell_type": "code",
   "execution_count": null,
   "metadata": {
    "collapsed": true
   },
   "outputs": [],
   "source": [
    "Ansible\n",
    "\n",
    "http://www.ansible.com.cn/index.html"
   ]
  },
  {
   "cell_type": "code",
   "execution_count": null,
   "metadata": {
    "collapsed": true
   },
   "outputs": [],
   "source": [
    "Mysql\n",
    "\n",
    "O.Mysql.ipynb"
   ]
  },
  {
   "cell_type": "code",
   "execution_count": null,
   "metadata": {
    "collapsed": true
   },
   "outputs": [],
   "source": [
    "gitlab & github & ssh-key\n",
    "\n",
    "# gitlab\n",
    "git 配置初始化本地库\n",
    "git config --global user.name \"Administrator\"　  ＃姓名，commit代码的时候用到\n",
    "git config --global user.email \"mail address\"　　＃邮箱，commit代码的时候用到\n",
    "\n",
    "代码下载修改提交代码及request?\n",
    "git clone git@gitlab.cihon.cn:misc/misc.git\n",
    "git checkout -b self_branch master\n",
    "git add somefiles  //将修改的文件添加到暂存区   \n",
    "git commit -m “commit”\n",
    "git push origin self_branch          //push 自己的分支到gitlab\n",
    "\n",
    "git 项目创建和master仓库初始化?\n",
    "cd existing_folder\n",
    "git init                                        //始化本地仓库\n",
    "git remote add origin giturl　   //本地添加远程\n",
    "git add .　                                 //将本目录下所有文件加到索引区\n",
    "git commit　                             //将索引区数据加到历史区\n",
    "git push -u origin master　      //上传master分支\n",
    "\n",
    "# github\n",
    "submit codes to github?\n",
    "git clone repo\n",
    "use git clone https://github.com/%REPOSITORYFOLDER%/%REPOSITORYNAME%.git instead of git clone git@github.com:%REPOSITORYFOLDER%/%REPOSITORYNAME%.git\n",
    "git add files\n",
    "git status // Check uploading files\n",
    "git commit -m \"commit\"\n",
    "git push origin master\n",
    "\n",
    "# git\n",
    "https://www.jianshu.com/p/038ccb3518f2\n",
    "\n",
    "# ssh key\n"
   ]
  },
  {
   "cell_type": "code",
   "execution_count": null,
   "metadata": {
    "collapsed": true
   },
   "outputs": [],
   "source": []
  },
  {
   "cell_type": "markdown",
   "metadata": {},
   "source": [
    "## Linux commands"
   ]
  },
  {
   "cell_type": "code",
   "execution_count": null,
   "metadata": {
    "collapsed": true
   },
   "outputs": [],
   "source": [
    "group & user & chmod | chown\n",
    "\n",
    "group\n",
    "groupadd  test //创建组\n",
    "groupmod -n test2  test //修改组\n",
    "groupdel test2 //删除组\n",
    "4 查看组\n",
    "a）查看当前登录用户所在的组 groups，查看apacheuser所在组groups apacheuser\n",
    "b）查看所有组 cat /etc/group\n",
    "c）有的linux系统没有/etc/group文件的，这个时候看下面的这个方法 cat /etc/passwd |awk -F [:] '{print $4}' |sort|uniq | getent group |awk -F [:] '{print $1}'\n",
    "      命令getent,可以通过组ID来查找组信息,如果这个命令没有的话,那就很难查找,系统中所有的组了\n",
    "\n",
    "user\n",
    "finger apacheuser      id apacheuser //查看单个用户信息\n",
    "last 查看登录成功的用户记录   lastb 查看登录不成功的用户记录  //查看用户登录记录\n",
    "查看所有用户\n",
    "cut -d : -f 1 /etc/passwd\n",
    "cat /etc/passwd |awk -F \\: '{print $1}'\n",
    "\n",
    "sudo su //普通账户切换到root\n",
    "su ingookey //root切换到普通账户\n",
    "\n",
    "chmod | chown\n",
    ".chmod\n",
    "chmod [-vR][ugoa...][+-=][rwxX][,[ugoa...][+-=][rwxX]] file1 file2  //v 显示权限变更的详细资料,R迭代\n",
    "chmod 4755 file1       //可使file1具有root权限\n",
    ".chown\n",
    "chown otherUser file1      //更改file1的所有者\n",
    "chown -vR otherUser:otherGroup folder     //迭代显示地更改folder的所有者和组"
   ]
  },
  {
   "cell_type": "code",
   "execution_count": null,
   "metadata": {
    "collapsed": true
   },
   "outputs": [],
   "source": [
    "ssh & hostname\n",
    "\n",
    "ssh\n",
    "https://jingyan.baidu.com/article/2f9b480db035e141cb6cc23e.html\n",
    "\n",
    "hostname\n",
    "hostname的种类： \n",
    "1. Static hostname: 由sysadmin分配. 例如 “server1”, “wwwbox2”, or server42.cyberciti.biz. \n",
    "2. Transient/Dynamic hostname: 由DHCP 或 mDNS server在运行时分配. \n",
    "3. Pretty hostname: 由sysadmin/end-users分配，并且它是自由形态的UTF8 hostname，用了呈现给用户。例如 “Vivek’s netbook”.\n",
    "\n",
    "如何查看hostname?\n",
    "hostname\n",
    "cat /proc/sys/kernel/hostname\n",
    "hostnamectl\n",
    "hostnamectl status \n",
    "\n",
    "如何修改hostname?\n",
    "//临时修改，重启后失效\n",
    "hostname newname\n",
    "//永久修改hostname,将里面的HOSTNAME这一行修改成HOSTNAME=NEWNAME\n",
    "RedHat /etc/sysconfig/network\n",
    "Debian /etc/hostname\n",
    "\n",
    "centos7\n",
    "hostnamectl status                               //检查当前hostname的情况\n",
    "hostnamectl set-hostname newname  //修改centos7的static hostname. \n",
    "如何设置hostname?\n",
    "# hostnamectl set-hostname Your-New-Host-Name-Here\n",
    "# hostnamectl set-hostname Your-New-Host-Name-Here --pretty\n",
    "# hostnamectl set-hostname Your-New-Host-Name-Here --static\n",
    "# hostnamectl set-hostname Your-New-Host-Name-Here --transient\n",
    "\n",
    "如何删除某个hostname?\n",
    "# hostnamectl set-hostname \"\"\n",
    "# hostnamectl set-hostname \"\" --pretty\n",
    "# hostnamectl set-hostname \"\" --static\n",
    "\n",
    "如何远程设置hostname?\n",
    "hostnamectl set-hostname newname -H root@IP"
   ]
  },
  {
   "cell_type": "code",
   "execution_count": null,
   "metadata": {
    "collapsed": true
   },
   "outputs": [],
   "source": [
    "rz & sz\n",
    "\n",
    "rz & sz (在SSH中，Windows与Linux间通过命令传输文件)\n",
    "我（客户端）上传，你（服务器）接收（rz），我下载（客户端），你（服务器）发送（sz）\n",
    "http://blog.csdn.net/garfielder007/article/details/60982595"
   ]
  },
  {
   "cell_type": "code",
   "execution_count": null,
   "metadata": {
    "collapsed": true
   },
   "outputs": [],
   "source": [
    "screen\n",
    "\n",
    "http://www.gnu.org/software/screen/manual/screen.html\n",
    "http://www.softpanorama.org/Utilities/Screen/screenrc_examples.shtml"
   ]
  },
  {
   "cell_type": "code",
   "execution_count": null,
   "metadata": {
    "collapsed": true
   },
   "outputs": [],
   "source": [
    "shutdown & logout\n",
    "\n",
    ".关机\n",
    "shutdown -hnow\n",
    "shutdown -rnow\n",
    "shutdown -r+3   //3min后重启\n",
    "shutdown -r20:23     //20:23时重启\n",
    "halt\n",
    "poweroff\n",
    "\n",
    ".注销\n",
    "logout"
   ]
  }
 ],
 "metadata": {
  "kernelspec": {
   "display_name": "Python 3",
   "language": "python",
   "name": "python3"
  },
  "language_info": {
   "codemirror_mode": {
    "name": "ipython",
    "version": 3
   },
   "file_extension": ".py",
   "mimetype": "text/x-python",
   "name": "python",
   "nbconvert_exporter": "python",
   "pygments_lexer": "ipython3",
   "version": "3.6.1"
  }
 },
 "nbformat": 4,
 "nbformat_minor": 2
}
