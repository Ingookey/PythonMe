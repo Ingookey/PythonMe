{
 "cells": [
  {
   "cell_type": "code",
   "execution_count": null,
   "metadata": {
    "collapsed": true
   },
   "outputs": [],
   "source": [
    "# detect faces from image\n",
    "# import library - MUST use cv2 if using opencv_traincascade\n",
    "import cv2\n",
    "\n",
    "# rectangle color and stroke\n",
    "color = (0,0,255)       # reverse of RGB (B,G,R) - weird\n",
    "strokeWeight = 1        # thickness of outline\n",
    "\n",
    "# set window name\n",
    "windowName = \"Faces Detection\"\n",
    "\n",
    "# load an image to search for faces\n",
    "image = cv2.imread(\"../config/testFile1.jpg\")\n",
    "\n",
    "# load detection file (various files for different views and uses)\n",
    "cascade = cv2.CascadeClassifier(\"../config/haarcascade_frontalface_alt.xml\")\n",
    "\n",
    "img_copy = cv2.resize(image, (int(image.shape[1]/2), int(image.shape[0]/2)))\n",
    "gray = cv2.cvtColor(img_copy, cv2.COLOR_BGR2GRAY)\n",
    "gray = cv2.equalizeHist(gray)\n",
    "\n",
    "# detect objects, return as list\n",
    "rects = cascade.detectMultiScale(image)\n",
    "\n",
    "# display until escape key is hit\n",
    "while True:\n",
    "    # get a list of rectangles\n",
    "    for x,y, width,height in rects:\n",
    "        cv2.rectangle(image, (x,y), (x+width, y+height), color, strokeWeight)\n",
    "\n",
    "    # display!\n",
    "    cv2.imshow(windowName, image)\n",
    "\n",
    "    # escape key (ASCII 27) closes window\n",
    "    if cv2.waitKey(20) == 27:\n",
    "        break\n",
    "\n",
    "# if esc key is hit, quit!\n",
    "exit()"
   ]
  },
  {
   "cell_type": "code",
   "execution_count": null,
   "metadata": {
    "collapsed": true
   },
   "outputs": [],
   "source": [
    "# opencv灰色检测\n",
    "import cv2\n",
    "import numpy as np\n",
    "import sys\n",
    "\n",
    "img = cv2.imread(\"../config/testFile2.jpg\")\n",
    "print(\"img: \", img)\n",
    "emptyImage = np.zeros(img.shape, np.uint8)\n",
    "emptyImage2 = img.copy()\n",
    "emptyImage3=cv2.cvtColor(img, cv2.COLOR_BGR2GRAY)\n",
    "\n",
    "cv2.imshow(\"EmptyImage3\", emptyImage3)\n",
    "cv2.waitKey (0)\n",
    "cv2.destroyAllWindows()"
   ]
  },
  {
   "cell_type": "code",
   "execution_count": null,
   "metadata": {
    "collapsed": true
   },
   "outputs": [],
   "source": []
  },
  {
   "cell_type": "code",
   "execution_count": null,
   "metadata": {
    "collapsed": true
   },
   "outputs": [],
   "source": []
  }
 ],
 "metadata": {
  "kernelspec": {
   "display_name": "Python 3",
   "language": "python",
   "name": "python3"
  },
  "language_info": {
   "codemirror_mode": {
    "name": "ipython",
    "version": 3
   },
   "file_extension": ".py",
   "mimetype": "text/x-python",
   "name": "python",
   "nbconvert_exporter": "python",
   "pygments_lexer": "ipython3",
   "version": "3.6.1"
  },
  "widgets": {
   "application/vnd.jupyter.widget-state+json": {
    "state": {},
    "version_major": 1,
    "version_minor": 0
   }
  }
 },
 "nbformat": 4,
 "nbformat_minor": 2
}
