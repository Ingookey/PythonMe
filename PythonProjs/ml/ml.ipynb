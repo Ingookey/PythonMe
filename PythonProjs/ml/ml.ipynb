{
 "cells": [
  {
   "cell_type": "code",
   "execution_count": null,
   "metadata": {},
   "outputs": [],
   "source": [
    "c = get_config()\n",
    "\n",
    "c.InteractiveShellApp.exec_lines = [\n",
    "        \"import pandas as pd\",\n",
    "        \"import numpy as np\",\n",
    "        \"import scipy.stats as spstats\",\n",
    "        \"import scipy as sp\",\n",
    "        \"import matplotlib.pyplot as plt\",\n",
    "        ] # 加载太多可能会影响初始化notebook和ipython shell的速度\n",
    "\n",
    "c.IPKernelApp.matplotlib = 'inline'"
   ]
  },
  {
   "cell_type": "code",
   "execution_count": null,
   "metadata": {
    "collapsed": true
   },
   "outputs": [],
   "source": [
    "机器学习？\n",
    "https://reata.github.io/notebook/"
   ]
  },
  {
   "cell_type": "code",
   "execution_count": 5,
   "metadata": {},
   "outputs": [
    {
     "name": "stderr",
     "output_type": "stream",
     "text": [
      "'grep' 不是内部或外部命令，也不是可运行的程序\n",
      "或批处理文件。\n"
     ]
    }
   ],
   "source": [
    "!pip list | grep \"panda.*\"\n"
   ]
  },
  {
   "cell_type": "code",
   "execution_count": null,
   "metadata": {},
   "outputs": [],
   "source": [
    "%%bash\n",
    "for i in {1..5}\n",
    "do\n",
    "   echo \"$i\"\n",
    "done   "
   ]
  },
  {
   "cell_type": "code",
   "execution_count": 18,
   "metadata": {},
   "outputs": [
    {
     "name": "stdout",
     "output_type": "stream",
     "text": [
      "   col1  col2\n",
      "0    10     3\n",
      "1    14     4 \n",
      " col1    int8\n",
      "col2    int8\n",
      "dtype: object\n"
     ]
    }
   ],
   "source": [
    "import pandas as pd\n",
    "import numpy as np\n",
    "\n",
    "d = {'col1': [10, 14], 'col2': [3, 4]}\n",
    "df = pd.DataFrame(data=d, dtype=np.int8)\n",
    "print(df, '\\n', df.dtypes)"
   ]
  },
  {
   "cell_type": "code",
   "execution_count": null,
   "metadata": {
    "collapsed": true
   },
   "outputs": [],
   "source": []
  }
 ],
 "metadata": {
  "kernelspec": {
   "display_name": "Python 3",
   "language": "python",
   "name": "python3"
  },
  "language_info": {
   "codemirror_mode": {
    "name": "ipython",
    "version": 3
   },
   "file_extension": ".py",
   "mimetype": "text/x-python",
   "name": "python",
   "nbconvert_exporter": "python",
   "pygments_lexer": "ipython3",
   "version": "3.6.1"
  }
 },
 "nbformat": 4,
 "nbformat_minor": 2
}
