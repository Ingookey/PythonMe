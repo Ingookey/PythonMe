{
 "cells": [
  {
   "cell_type": "code",
   "execution_count": null,
   "metadata": {
    "scrolled": true
   },
   "outputs": [],
   "source": [
    "# download html context by requests_html.\n",
    "from requests_html import HTMLSession\n",
    "session = HTMLSession()\n",
    "url = 'http://quotes.toscrape.com/'\n",
    "r = session.get(url)\n",
    "print(r.html.text)"
   ]
  },
  {
   "cell_type": "code",
   "execution_count": null,
   "metadata": {
    "collapsed": true,
    "scrolled": true
   },
   "outputs": [],
   "source": [
    "r.html.links\n",
    "r.html.absolute_links"
   ]
  },
  {
   "cell_type": "code",
   "execution_count": 3,
   "metadata": {},
   "outputs": [
    {
     "name": "stdout",
     "output_type": "stream",
     "text": [
      "[<Element 'span' class=('text',) itemprop='text'>]\n",
      "“It is our choices, Harry, that show what we truly are, far more than our abilities.”\n",
      "J.K. Rowling\n",
      "Tags:\n",
      "abilities choices\n"
     ]
    }
   ],
   "source": [
    "sel = 'body > div > div:nth-child(2) > div.col-md-8 > div:nth-child(2) > span.text'\n",
    "results = r.html.find(sel)\n",
    "print(results)\n",
    "context = results[0].text\n",
    "print(context)\n",
    "\n",
    "sel2 = 'body > div > div:nth-child(2) > div.col-md-8 > div:nth-child(2) > span:nth-child(2) > small'\n",
    "results = r.html.find(sel2)\n",
    "print(results[0].text)\n",
    "\n",
    "sel3 = 'body > div > div:nth-child(2) > div.col-md-8 > div:nth-child(2) > div'\n",
    "results = r.html.find(sel3)\n",
    "tag = results[0].text\n",
    "print(tag)"
   ]
  },
  {
   "cell_type": "code",
   "execution_count": 4,
   "metadata": {
    "collapsed": true
   },
   "outputs": [],
   "source": [
    "def get_text_link_from_sel(sel):\n",
    "    mylist = []\n",
    "    try:\n",
    "        results = r.html.find(sel)\n",
    "        for result in results:\n",
    "            mytext = result.text\n",
    "            mylink = list(result.absolute_links)[0]\n",
    "            mylist.append((mytext, mylink))\n",
    "        return mylist\n",
    "    except:\n",
    "        return None"
   ]
  },
  {
   "cell_type": "code",
   "execution_count": null,
   "metadata": {
    "collapsed": true
   },
   "outputs": [],
   "source": []
  },
  {
   "cell_type": "code",
   "execution_count": 5,
   "metadata": {},
   "outputs": [
    {
     "name": "stdout",
     "output_type": "stream",
     "text": [
      "None\n"
     ]
    }
   ],
   "source": [
    "# the same function by call funtion.\n",
    "sel = 'body > div > div:nth-child(2) > div.col-md-8 > div:nth-child(1) > span.text'\n",
    "print(get_text_link_from_sel(sel))"
   ]
  },
  {
   "cell_type": "code",
   "execution_count": null,
   "metadata": {
    "collapsed": true
   },
   "outputs": [],
   "source": [
    "# how to save the data.\n",
    "import pandas as pd\n",
    "df = pd.DataFrame(get_text_link_from_sel(sel))\n",
    "df.columns = ['text', 'link']\n",
    "df"
   ]
  },
  {
   "cell_type": "code",
   "execution_count": null,
   "metadata": {
    "collapsed": true
   },
   "outputs": [],
   "source": [
    "# save exported data to excel file.\n",
    "df.to_csv('output.csv', encoding='gbk', index=False)"
   ]
  },
  {
   "cell_type": "code",
   "execution_count": null,
   "metadata": {
    "collapsed": true
   },
   "outputs": [],
   "source": []
  }
 ],
 "metadata": {
  "kernelspec": {
   "display_name": "Python 3",
   "language": "python",
   "name": "python3"
  },
  "language_info": {
   "codemirror_mode": {
    "name": "ipython",
    "version": 3
   },
   "file_extension": ".py",
   "mimetype": "text/x-python",
   "name": "python",
   "nbconvert_exporter": "python",
   "pygments_lexer": "ipython3",
   "version": "3.6.1"
  },
  "widgets": {
   "application/vnd.jupyter.widget-state+json": {
    "state": {},
    "version_major": 1,
    "version_minor": 0
   }
  }
 },
 "nbformat": 4,
 "nbformat_minor": 2
}
