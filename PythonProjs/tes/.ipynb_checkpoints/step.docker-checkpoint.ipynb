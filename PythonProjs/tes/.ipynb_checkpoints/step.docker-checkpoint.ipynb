{
 "cells": [
  {
   "cell_type": "code",
   "execution_count": null,
   "metadata": {
    "collapsed": true
   },
   "outputs": [],
   "source": [
    "# docker usages\n",
    "https://hub.docker.com/\n",
    "https://store.docker.com/\n",
    "    \n",
    "    docker login(ingookey,B)\n",
    "    docker image ls\n",
    "    \n",
    "### Reference\n",
    "http://f2d6cb40.m.daocloud.io\n",
    "    https://www.yilan.io/article/5a7d61d974471793156a8c4e"
   ]
  }
 ],
 "metadata": {
  "kernelspec": {
   "display_name": "Python 3",
   "language": "python",
   "name": "python3"
  },
  "language_info": {
   "codemirror_mode": {
    "name": "ipython",
    "version": 3
   },
   "file_extension": ".py",
   "mimetype": "text/x-python",
   "name": "python",
   "nbconvert_exporter": "python",
   "pygments_lexer": "ipython3",
   "version": "3.6.1"
  }
 },
 "nbformat": 4,
 "nbformat_minor": 2
}
