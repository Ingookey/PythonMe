{
 "cells": [
  {
   "cell_type": "code",
   "execution_count": 3,
   "metadata": {
    "collapsed": true
   },
   "outputs": [],
   "source": [
    "import pymysql"
   ]
  },
  {
   "cell_type": "code",
   "execution_count": 6,
   "metadata": {},
   "outputs": [
    {
     "name": "stdout",
     "output_type": "stream",
     "text": [
      "[createTable] Database version : ('5.7.17-log',)\n",
      "[createTable] create table done.\n"
     ]
    }
   ],
   "source": [
    "# create table in db.\n",
    "def createTable():\n",
    "    db = pymysql.connect(\"localhost\", \"root\", \"hsq888\", \"testschema\") # 打开数据库连接\n",
    "    cursor = db.cursor() # 使用 cursor()方法创建一个游标对象cursor\n",
    "    cursor.execute(\"SELECT VERSION()\")    # 使用 execute()方法执行 SQL 查询\n",
    "    data = cursor.fetchone()    # 使用 fetchone()方法获取单条数据\n",
    "    print(\"[createTable] Database version : {}\".format(data))\n",
    "    \n",
    "    cursor = db.cursor() # 使用 cursor()方法创建一个游标对象cursor\n",
    "    cursor.execute(\"DROP TABLE IF EXISTS EMPLOYEE\")\n",
    "    # 使用预处理语句创建表\n",
    "    sql = \"\"\"CREATE TABLE EMPLOYEE (\n",
    "             FIRST_NAME  CHAR(20) NOT NULL,\n",
    "             LAST_NAME  CHAR(20),\n",
    "             AGE INT,  \n",
    "             SEX CHAR(1),\n",
    "             INCOME FLOAT )\"\"\"\n",
    "    cursor.execute(sql)\n",
    "    print(\"[createTable] create table done.\")\n",
    "    db.close()\n",
    "\n",
    "createTable()"
   ]
  },
  {
   "cell_type": "code",
   "execution_count": null,
   "metadata": {
    "collapsed": true
   },
   "outputs": [],
   "source": [
    "    # insert data into table\n",
    "def insertTable():\n",
    "    db = pymysql.connect(\"localhost\", \"root\", \"hsq888\", \"testschema\")\n",
    "    cursor = db.cursor()\n",
    "    sql1 = \"INSERT INTO EMPLOYEE(FIRST_NAME, \\\n",
    "       LAST_NAME, AGE, SEX, INCOME) \\\n",
    "       VALUES ('%s', '%s', '%d', '%c', '%d' )\" % \\\n",
    "        ('Mac', 'Mohan', 20, 'M', 2000)\n",
    "    ''\n",
    "    sql2 = \"\"\"INSERT INTO EMPLOYEE(FIRST_NAME,\n",
    "         LAST_NAME, AGE, SEX, INCOME)\n",
    "         VALUES ('Mac', 'Mohan', 20, 'M', 2000)\"\"\"\n",
    "    ''\n",
    "    try:\n",
    "        cursor.execute(sql1)\n",
    "        db.commit()         # 提交到数据库执行\n",
    "    except:\n",
    "        db.rollback()        # 如果发生错误则回滚\n",
    "    db.close()"
   ]
  },
  {
   "cell_type": "code",
   "execution_count": null,
   "metadata": {
    "collapsed": true
   },
   "outputs": [],
   "source": [
    "# query table\n",
    "def queryTable():\n",
    "    db = pymysql.connect(\"localhost\", \"root\", \"hsq888\", \"testschema\")\n",
    "    cursor = db.cursor()\n",
    "    sql = \"SELECT * FROM EMPLOYEE \\\n",
    "           WHERE INCOME > '%d'\" % (1000)\n",
    "    try:\n",
    "        cursor.execute(sql)\n",
    "        results = cursor.fetchall()  # 获取所有记录列表\n",
    "        for row in results:\n",
    "            fname = row[0]\n",
    "            lname = row[1]\n",
    "            age = row[2]\n",
    "            sex = row[3]\n",
    "            income = row[4]\n",
    "            print(\"fname=%s, lname=%s, age=%d, sex=%s, income=%d\" %\n",
    "                  (fname, lname, age, sex, income))\n",
    "    except:\n",
    "        print(\"Error: unable to fetch data\")\n",
    "    db.close()"
   ]
  },
  {
   "cell_type": "code",
   "execution_count": null,
   "metadata": {
    "collapsed": true
   },
   "outputs": [],
   "source": [
    "# update table\n",
    "def updateTable():\n",
    "    db = pymysql.connect(\"localhost\", \"root\", \"hsq888\", \"testschema\")\n",
    "    cursor = db.cursor()\n",
    "    sql = \"UPDATE EMPLOYEE SET AGE = AGE + 1 \\\n",
    "                              WHERE SEX = '%c'\" % ('M')\n",
    "    try:\n",
    "        cursor.execute(sql)\n",
    "        db.commit()\n",
    "    except:\n",
    "        db.rollback()\n",
    "    db.close()\n",
    "    pass"
   ]
  },
  {
   "cell_type": "code",
   "execution_count": null,
   "metadata": {
    "collapsed": true
   },
   "outputs": [],
   "source": [
    "# delete content in table\n",
    "def deleteTable():\n",
    "    db = pymysql.connect(\"localhost\", \"root\", \"hsq888\", \"testschema\")\n",
    "    cursor = db.cursor()\n",
    "    sql = \"DELETE FROM EMPLOYEE WHERE AGE > '%d'\" % (20)\n",
    "    try:\n",
    "        cursor.execute(sql)\n",
    "        db.commit()\n",
    "    except:\n",
    "        db.rollback()\n",
    "    db.close()\n",
    "    pass"
   ]
  },
  {
   "cell_type": "markdown",
   "metadata": {
    "collapsed": true
   },
   "source": [
    "### pandasql\n",
    "http://blog.yhat.com/posts/pandasql-sql-for-pandas-dataframes.html\n"
   ]
  },
  {
   "cell_type": "code",
   "execution_count": 8,
   "metadata": {},
   "outputs": [
    {
     "data": {
      "text/html": [
       "<div>\n",
       "<style>\n",
       "    .dataframe thead tr:only-child th {\n",
       "        text-align: right;\n",
       "    }\n",
       "\n",
       "    .dataframe thead th {\n",
       "        text-align: left;\n",
       "    }\n",
       "\n",
       "    .dataframe tbody tr th {\n",
       "        vertical-align: top;\n",
       "    }\n",
       "</style>\n",
       "<table border=\"1\" class=\"dataframe\">\n",
       "  <thead>\n",
       "    <tr style=\"text-align: right;\">\n",
       "      <th></th>\n",
       "      <th>year</th>\n",
       "      <th>beef_total</th>\n",
       "    </tr>\n",
       "  </thead>\n",
       "  <tbody>\n",
       "    <tr>\n",
       "      <th>0</th>\n",
       "      <td>1944</td>\n",
       "      <td>8801.0</td>\n",
       "    </tr>\n",
       "    <tr>\n",
       "      <th>1</th>\n",
       "      <td>1945</td>\n",
       "      <td>9936.0</td>\n",
       "    </tr>\n",
       "    <tr>\n",
       "      <th>2</th>\n",
       "      <td>1946</td>\n",
       "      <td>9010.0</td>\n",
       "    </tr>\n",
       "    <tr>\n",
       "      <th>3</th>\n",
       "      <td>1947</td>\n",
       "      <td>10096.0</td>\n",
       "    </tr>\n",
       "    <tr>\n",
       "      <th>4</th>\n",
       "      <td>1948</td>\n",
       "      <td>8766.0</td>\n",
       "    </tr>\n",
       "  </tbody>\n",
       "</table>\n",
       "</div>"
      ],
      "text/plain": [
       "   year  beef_total\n",
       "0  1944      8801.0\n",
       "1  1945      9936.0\n",
       "2  1946      9010.0\n",
       "3  1947     10096.0\n",
       "4  1948      8766.0"
      ]
     },
     "execution_count": 8,
     "metadata": {},
     "output_type": "execute_result"
    }
   ],
   "source": [
    "from pandasql import sqldf\n",
    "from pandasql import load_meat, load_births\n",
    "\n",
    "pysqldf = lambda q: sqldf(q, globals())\n",
    "meat = load_meat()\n",
    "births = load_births()\n",
    "pysqldf(\"SELECT * FROM meat LIMIT 10;\").head()\n",
    "\n",
    "# 表关联\n",
    "q = \"\"\"SELECT m.date, m.beef, b.births FROM meat m INNER JOIN births b ON m.date = b.date;\"\"\"\n",
    "joined = pysqldf(q), joined.head()\n",
    "# 分组计算\n",
    "q = \"select strftime('%Y', date) as year , SUM(beef) as beef_total FROM meat GROUP BY year;\"\n",
    "pysqldf(q).head()"
   ]
  },
  {
   "cell_type": "code",
   "execution_count": null,
   "metadata": {},
   "outputs": [],
   "source": []
  },
  {
   "cell_type": "code",
   "execution_count": null,
   "metadata": {
    "collapsed": true
   },
   "outputs": [],
   "source": []
  }
 ],
 "metadata": {
  "kernelspec": {
   "display_name": "Python 3",
   "language": "python",
   "name": "python3"
  },
  "language_info": {
   "codemirror_mode": {
    "name": "ipython",
    "version": 3
   },
   "file_extension": ".py",
   "mimetype": "text/x-python",
   "name": "python",
   "nbconvert_exporter": "python",
   "pygments_lexer": "ipython3",
   "version": "3.6.1"
  }
 },
 "nbformat": 4,
 "nbformat_minor": 2
}
