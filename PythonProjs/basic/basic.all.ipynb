{
 "cells": [
  {
   "cell_type": "markdown",
   "metadata": {},
   "source": [
    "### References\n",
    "**python**\n",
    "- Python官网 http://www.python.org\n",
    "- Python官方文档 https://docs.python.org/3/\n",
    "- 中文版Python文档 http://www.pythondoc.com/pythontutorial3/index.html"
   ]
  },
  {
   "cell_type": "raw",
   "metadata": {},
   "source": [
    "## jupyter notebook usages\n",
    "如何使用notebook?\n",
    "http://liuchengxu.org/pelican-blog/jupyter-notebook-tips.html"
   ]
  },
  {
   "cell_type": "code",
   "execution_count": 8,
   "metadata": {
    "collapsed": true
   },
   "outputs": [],
   "source": [
    "%magic autosave\n",
    "# %lsmagic可以列举所有的魔法命令；%magic(eg: %magic autosave)可查看各个命令的说明，而在%命令之后添加?(eg:%autosave?)可查看该命令的详细说明\n",
    "\n",
    "# jupyter hotkey\n",
    "http://blog.konghy.cn/2017/05/04/jupyter-notebook-hotkeys/"
   ]
  },
  {
   "cell_type": "code",
   "execution_count": null,
   "metadata": {
    "collapsed": true
   },
   "outputs": [],
   "source": [
    "# 使每一行结果可输出\n",
    "from IPython.core.interactiveshell import InteractiveShell\n",
    "InteractiveShell.ast_node_interactivity = \"all\"\n",
    "\n",
    "line1 = \"this is from line 1\"\n",
    "line2 = \"this is from line 2\"\n",
    "line1\n",
    "line2"
   ]
  },
  {
   "cell_type": "raw",
   "metadata": {
    "collapsed": true
   },
   "source": [
    "## list"
   ]
  },
  {
   "cell_type": "code",
   "execution_count": null,
   "metadata": {
    "collapsed": true
   },
   "outputs": [],
   "source": [
    "# 把列表当作堆栈使用（后进先出）\n",
    "stackList = [3, 45, 89]\n",
    "stackList.append(90)\n",
    "stackList.append(1000)\n",
    "print(stackList)\n",
    "\n",
    "stackList.pop()\n",
    "print(stackList)"
   ]
  },
  {
   "cell_type": "code",
   "execution_count": null,
   "metadata": {
    "collapsed": true
   },
   "outputs": [],
   "source": [
    "# 把列表当作队列使用（先进先出）\n",
    "from collections import deque\n",
    "\n",
    "queueList = deque(['one', 'uis', 'yue'])\n",
    "queueList.append('lp')\n",
    "print(queueList)\n",
    "\n",
    "queueList.popleft()\n",
    "print(queueList)\n",
    "queueList.popleft()\n",
    "print(queueList)"
   ]
  },
  {
   "cell_type": "code",
   "execution_count": null,
   "metadata": {
    "collapsed": true
   },
   "outputs": [],
   "source": [
    "# 列表推导式\n",
    "squareList = [x**2 for x in range(10)]\n",
    "print(squareList)\n",
    "squares = list(map(lambda x: x**2, range(10)))\n",
    "print(squares)\n",
    "combList = [(x, y) for x in [1,2,3] for y in [3,1,4] if x != y] #双重循环得到元组\n",
    "print(combList)\n",
    "# flatten a list using a listcomp with two 'for'\n",
    "vec = [[1,2,3], [4,5,6], [7,8,9]]\n",
    "vecList = [num for elem in vec for num in elem]\n",
    "print(vecList)\n",
    "\n",
    "# string\n",
    "# 若 strip()的参数为空，那默认会删除字符串头和尾的空白字符(包括\\n，\\r，\\t等)；若不为空，则删除相关字符集\n",
    "line = \"\\t babacb111baccbb\\t \"\n",
    "print(line.strip())\n",
    "print(line.lstrip('ab'))\n",
    "print(line.rstrip())"
   ]
  },
  {
   "cell_type": "code",
   "execution_count": null,
   "metadata": {
    "collapsed": true
   },
   "outputs": [],
   "source": [
    "# filter(function, sequence)：对sequence中的item依次执行function(item)，将执行结果为True的item组成一个List/String/Tuple（取决于sequence的类型）返回\n",
    "def fuc(x): return x % 2 != 0 and x % 3 != 0\n",
    "list(filter(fuc, range(2, 25)))\n",
    "\n",
    "def f(x): return x != 'a'\n",
    "list(filter(f, \"abcdef\"))"
   ]
  },
  {
   "cell_type": "code",
   "execution_count": null,
   "metadata": {
    "collapsed": true
   },
   "outputs": [],
   "source": [
    "# map(function, sequence) ：对sequence中的item依次执行function(item)，将执行结果组成一个List返回【range 含始不含尾】\n",
    "def cube(x): return x*x*x\n",
    "list(map(cube, range(1, 11)))\n",
    "\n",
    "# 另外，map也支持多个sequence，这就要求function也支持相应数量的参数输入\n",
    "def add(x, y): return x+y\n",
    "list(map(add, range(8), range(100,150))) # y中多余的部分无用"
   ]
  },
  {
   "cell_type": "code",
   "execution_count": null,
   "metadata": {
    "collapsed": true
   },
   "outputs": [],
   "source": [
    "# reduce(function, sequence, starting_value)：对sequence中的item顺序迭代调用function;\n",
    "# 如果有starting_value，还可以作为初始值调用\n",
    "def add(x,y): return x + y\n",
    "reduce(add, range(1, 11))  # 注：1+2+3+4+5+6+7+8+9+10\n",
    "reduce(add, range(1, 11), 20)  #注：1+2+3+4+5+6+7+8+9+10 + 20"
   ]
  },
  {
   "cell_type": "code",
   "execution_count": null,
   "metadata": {
    "collapsed": true,
    "scrolled": true
   },
   "outputs": [],
   "source": [
    "# lambda：允许你快速定义单行的最小函数，类似与C语言中的宏，这些叫做lambda的函数，是从LISP借用来的\n",
    "import math\n",
    "\n",
    "sum = lambda x, y: math.sqrt(x + y)\n",
    "g = lambda x: x ** 2\n",
    "g(3), sum(7, 8)\n",
    "(lambda x: x * 5)(2)\n",
    "\n",
    "# func = lambda x,y: x+y  func相当于这个函数 def func(x,y), 注意def是语句而lambda是表达式，像以下这样只能用 lambda 而不能用 def；\n",
    "[(lambda x:x*x)(x) for x in range(1,11)]\n",
    "list(map(lambda x : x*2, range(0, 10)))"
   ]
  },
  {
   "cell_type": "code",
   "execution_count": null,
   "metadata": {
    "collapsed": true
   },
   "outputs": [],
   "source": [
    "# del语句\n",
    "li = [-1, 1, 66.25, 333, 333, 1234.5]\n",
    "del li[0]\n",
    "print(li)\n",
    "del li[2:4]\n",
    "print(li)\n",
    "del li[:] # 清空列表\n",
    "print(li)\n",
    "del li # 删除此变量，后面再使用会报错\n",
    "print(li)"
   ]
  },
  {
   "cell_type": "raw",
   "metadata": {},
   "source": [
    "## 元组 & 序列"
   ]
  },
  {
   "cell_type": "code",
   "execution_count": null,
   "metadata": {
    "collapsed": true
   },
   "outputs": [],
   "source": [
    "emptyTuple = ()\n",
    "print(emptyTuple, len(emptyTuple))\n",
    "oneTuple = 'uis', # # Tuples are immutable, 元组中可同时包含不同类型的元素\n",
    "print(oneTuple, len(oneTuple))\n",
    "twoTuple = 'uis', 'ios', 'android' , 78 # tuple的两种赋值形式，并且可逆操作\n",
    "a, b, c, d = twoTuple\n",
    "print(a, b, c, d)\n",
    "twTuple = ('uis', 'ios', 'android')\n",
    "print(twoTuple, len(twoTuple), twTuple)\n",
    "threeTuple = twTuple, ('898', '456')\n",
    "print(threeTuple)\n",
    " # but they can contain mutable objects, 元组那一级是不可变的，但列表的部分可改变；\n",
    "v = ([1, 2, 3], [3, 2, 1])\n",
    "v[1][0] = 89\n",
    "print(v, v[1])"
   ]
  },
  {
   "cell_type": "code",
   "execution_count": null,
   "metadata": {
    "collapsed": true,
    "scrolled": true
   },
   "outputs": [],
   "source": []
  },
  {
   "cell_type": "raw",
   "metadata": {},
   "source": [
    "## 集合\n",
    "# 集合是一个无序不重复元素的集，基本功能包括关系测试和消除重复元素。\n",
    "# 集合对象还支持 union（联合），intersection（交），difference（差）和 sysmmetric difference（对称差集）等数学运算。"
   ]
  },
  {
   "cell_type": "code",
   "execution_count": null,
   "metadata": {
    "collapsed": true,
    "scrolled": true
   },
   "outputs": [],
   "source": [
    "# 大括号或 set() 函数可以用来创建集合（注意：想要创建空集合，你必须使用 set() 而不是 {}。{}用于创建空字典）\n",
    "basket = {'apple', 'orange', 'apple', 'pear', 'orange', 'banana'}\n",
    "print(basket)\n",
    "print('orange' in basket, 'ors' in basket)\n",
    "\n",
    "a = set('abracadabra')\n",
    "b = set('alacazam')\n",
    "print(a, b)                                # unique letters in a\n",
    "print(a - b)                              # letters in a but not in b\n",
    "print(a | b)                              # letters in either a or b\n",
    "print(a & b)                              # letters in both a and b\n",
    "print(a ^ b)                              # letters in a or b but not both\n",
    "\n",
    "a = {x for x in 'abracadabra' if x not in 'abc'}\n",
    "print(a)"
   ]
  },
  {
   "cell_type": "code",
   "execution_count": null,
   "metadata": {
    "collapsed": true
   },
   "outputs": [],
   "source": [
    "## dict 字典"
   ]
  },
  {
   "cell_type": "code",
   "execution_count": null,
   "metadata": {
    "collapsed": true,
    "scrolled": false
   },
   "outputs": [],
   "source": [
    "tel = {'jack': 4098, 'sape': 4139}\n",
    "tel['uis'] = 5009\n",
    "print(tel)\n",
    "print(tel.keys(), '\\t', list(tel.keys()), '\\t', sorted(tel))\n",
    "del tel['sape']\n",
    "print(tel, '\\t', 'jack' in tel, '\\t' ,'jack' not in tel)\n",
    "\n",
    "# dict() 构造函数可以直接从 key-value 对中创建字典\n",
    "tel2 = dict([('sape', 4139), ('guido', 4127), ('jack', 4098)])\n",
    "print(tel2)\n",
    "\n",
    "tel3 = {x: x**2 for x in (2, 4, 6)}\n",
    "print(tel3)\n",
    "tel4 = dict(sape=4139, guido=4127, jack=4098)\n",
    "print(tel4)"
   ]
  },
  {
   "cell_type": "code",
   "execution_count": null,
   "metadata": {
    "collapsed": true,
    "scrolled": true
   },
   "outputs": [],
   "source": [
    "# 循环的使用\n",
    "tel4 = dict(sape=4139, guido=4127, jack=4098)\n",
    "for k, v in tel4.items(): # 字典中循环\n",
    "    print(k, '\\t', v)\n",
    "\n",
    "for i, v in enumerate(['tic', 'tac', 'toe']): # 序列中循环\n",
    "    print(i, v)\n",
    "\n",
    "# 同时循环两个或更多的序列，可以使用 zip() 整体打包:\n",
    "questions = ['name', 'quest', 'favorite color']\n",
    "answers = ['lancelot', 'the holy grail', 'blue']\n",
    "for q, a in zip(questions, answers):\n",
    "    print('What is your {0}?  It is {1}.'.format(q, a))\n",
    "\n",
    "# 逆向循环\n",
    "for i in reversed(range(1, 10, 2)):\n",
    "    print(i)\n",
    "    \n",
    "basket = ['apple', 'orange', 'apple', 'pear', 'orange', 'banana']\n",
    "for f in sorted(set(basket)):\n",
    "    print(f)\n",
    "\n",
    "# Loop over a slice copy of the entire list.\n",
    "words = ['cat', 'window', 'defenestrate']\n",
    "for w in words[:]:\n",
    "    if len(w) > 6:\n",
    "        words.insert(0, w)\n",
    "print(words, words is list, words is not list)"
   ]
  },
  {
   "cell_type": "code",
   "execution_count": 9,
   "metadata": {},
   "outputs": [
    {
     "name": "stdout",
     "output_type": "stream",
     "text": [
      "Trondheim\n"
     ]
    }
   ],
   "source": [
    "# 比较操作符\n",
    "string1, string2, string3 = '', 'Trondheim', 'Hammer Dance'\n",
    "non_null = string1 or string2 or string3\n",
    "print(non_null)"
   ]
  },
  {
   "cell_type": "code",
   "execution_count": null,
   "metadata": {
    "collapsed": true
   },
   "outputs": [],
   "source": [
    "# coding:utf-8\n",
    "import logging\n",
    "\n",
    "# logging test.\n",
    "def tesLogging():\n",
    "    print('tesLogging begin.')\n",
    "    logging.basicConfig(\n",
    "        level=logging.DEBUG,\n",
    "        format='%(asctime)s %(filename)s[line:%(lineno)d] %(levelname)s %(message)s',\n",
    "        datefmt='%a, %d %b %Y %H:%M:%S',\n",
    "        filename='../config/pylog.log',\n",
    "        filemode='w')\n",
    "    console = logging.StreamHandler()\n",
    "    console.setLevel(logging.DEBUG)\n",
    "    formatter = logging.Formatter('%(name)-10s: %(levelname)-6s %(message)s')\n",
    "    console.setFormatter(formatter)\n",
    "    logging.getLogger('').addHandler(console)\n",
    "\n",
    "    logging.debug(\"Logging message for basicDemo.\")\n",
    "    for x in range(9):\n",
    "        logging.debug('Current value: {}'.format(x))\n",
    "    pass\n",
    "\n",
    "tesLogging()"
   ]
  },
  {
   "cell_type": "code",
   "execution_count": null,
   "metadata": {
    "collapsed": true
   },
   "outputs": [],
   "source": [
    "from decorator import decorate\n",
    "import time\n",
    "\n",
    "# decorate function.\n",
    "def decorate_fun(fun):\n",
    "    def new_fun(*args, **kwargs):\n",
    "        print('initial parameters: {}, {}'.format(args, kwargs))\n",
    "        print('this is the fun()\"s start')\n",
    "        fun(*args, **kwargs)\n",
    "        print('this is the fun()\"s end')\n",
    "    return new_fun\n",
    "\n",
    "\n",
    "@decorate_fun\n",
    "def fun(number, start_number=0):\n",
    "    for n in range(number):\n",
    "        start_number += n\n",
    "        print(n)\n",
    "        time.sleep(1)\n",
    "    print('the final number is {}'.format(start_number))\n",
    "\n",
    "\n",
    "def test_Decorate():\n",
    "    print(fun.__name__)  # new_fun\n",
    "    fun(5, start_number=5)\n",
    "    pass\n",
    "\n",
    "test_Decorate()"
   ]
  },
  {
   "cell_type": "code",
   "execution_count": null,
   "metadata": {
    "collapsed": true
   },
   "outputs": [],
   "source": [
    "import os\n",
    "\n",
    "def testFile():\n",
    "    from os import path\n",
    "    testPath = './config/config.xml'\n",
    "    print(path.isfile(testPath), path.abspath(testPath), path.dirname(testPath))\n",
    "    print(path.isdir(testPath), path.isdir(str(path.abspath(testPath))), path.isabs(testPath))\n",
    "    print('parse end.')\n",
    "    \n",
    "    os.mkdir('testDir')\n",
    "    #os.rmdir('testDir')\n",
    "    print(os.listdir('./config'))\n",
    "    print(os.getcwd())\n",
    "    os.chdir('./config')\n",
    "    print(os.getcwd(), os.curdir)\n",
    "    \n",
    "    import glob\n",
    "    newDir = 'C:\\Python27\\include'\n",
    "    os.chdir(newDir)\n",
    "    print(os.getcwd())\n",
    "    print(glob.glob('a?[dt]*'))\n",
    "    \n",
    "    import shutil\n",
    "    print(shutil.copy('./config/config.xml', './config/config2.xml'))\n",
    "    print(shutil.move('./config/config2.xml', './config/config3.xml'))\n",
    "    pass"
   ]
  },
  {
   "cell_type": "code",
   "execution_count": 14,
   "metadata": {},
   "outputs": [
    {
     "name": "stderr",
     "output_type": "stream",
     "text": [
      "E\n",
      "======================================================================\n",
      "ERROR: C:\\Users\\Alex (unittest.loader._FailedTest)\n",
      "----------------------------------------------------------------------\n",
      "AttributeError: module '__main__' has no attribute 'C:\\Users\\Alex'\n",
      "\n",
      "----------------------------------------------------------------------\n",
      "Ran 1 test in 0.002s\n",
      "\n",
      "FAILED (errors=1)\n"
     ]
    },
    {
     "ename": "SystemExit",
     "evalue": "True",
     "output_type": "error",
     "traceback": [
      "An exception has occurred, use %tb to see the full traceback.\n",
      "\u001b[1;31mSystemExit\u001b[0m\u001b[1;31m:\u001b[0m True\n"
     ]
    },
    {
     "name": "stderr",
     "output_type": "stream",
     "text": [
      "S:\\Programs\\Anaconda\\lib\\site-packages\\IPython\\core\\interactiveshell.py:2889: UserWarning: To exit: use 'exit', 'quit', or Ctrl-D.\n",
      "  warn(\"To exit: use 'exit', 'quit', or Ctrl-D.\", stacklevel=1)\n"
     ]
    }
   ],
   "source": [
    "import unittest\n",
    "\n",
    "def just_do_it(str):\n",
    "    return str.capitalize()\n",
    "    pass\n",
    "\n",
    "class TestCap(unittest.TestCase):\n",
    "    def setUp(self):\n",
    "        pass\n",
    "\n",
    "    def tearDown(self):\n",
    "        pass\n",
    "\n",
    "    def test_one_word(self):\n",
    "        text = 'duck'\n",
    "        result = just_do_it(text)\n",
    "        self.assertEqual(result, 'Duck')\n",
    "\n",
    "    def test_multiple_words(self):\n",
    "        text = 'a veritable flock of ducks'\n",
    "        result = just_do_it(text)\n",
    "        self.assertEqual(result, 'A veritable flock of ducks')\n",
    "\n",
    "def runTest():\n",
    "    unittest.main()\n",
    "    pass\n",
    "\n",
    "runTest()"
   ]
  },
  {
   "cell_type": "code",
   "execution_count": 10,
   "metadata": {},
   "outputs": [
    {
     "name": "stdout",
     "output_type": "stream",
     "text": [
      "Trying:\n",
      "    list_generator(4)\n",
      "Expecting:\n",
      "    [0, 1, 2, 3]\n",
      "ok\n",
      "4 items had no tests:\n",
      "    __main__\n",
      "    __main__.run\n",
      "    __main__.tesLogging\n",
      "    __main__.tesPip\n",
      "1 items passed all tests:\n",
      "   1 tests in __main__.list_generator\n",
      "1 tests in 5 items.\n",
      "1 passed and 0 failed.\n",
      "Test passed.\n"
     ]
    }
   ],
   "source": [
    "def list_generator(number):\n",
    "    '''\n",
    "    >>> list_generator(4)\n",
    "    [0, 1, 2, 3]\n",
    "    '''\n",
    "    return [n for n in range(number)]\n",
    "    pass\n",
    "\n",
    "def run():\n",
    "    import doctest\n",
    "    doctest.testmod(verbose=True)\n",
    "    pass\n",
    "\n",
    "run()"
   ]
  },
  {
   "cell_type": "code",
   "execution_count": null,
   "metadata": {
    "collapsed": true
   },
   "outputs": [],
   "source": [
    "def tesPip():\n",
    "    if False:\n",
    "        import pip\n",
    "        print(pip.pep425tags.get_supported(), '\\n')\n",
    "    pass\n",
    "    \n",
    "    if False:\n",
    "        import keyword\n",
    "        print(keyword.iskeyword('pass')) # 用keyword模块检测True与False是否为关键字\n",
    "    pass\n",
    "    \n",
    "    if True:\n",
    "        stringMy = \"ieiufeo diat edk.\"*2\n",
    "        stringlist = stringMy.split(sep = \" \")\n",
    "        print(stringMy[0:3], '\\t', isinstance(stringMy, str), '\\t', stringlist)\n",
    "    pass\n",
    "    \n",
    "    stringList = \"999123456789 jk\"\n",
    "    oldList = list(stringList)\n",
    "    print(type(oldList), oldList)\n",
    "    newList = oldList[0: 4: 2]\n",
    "    print(type(newList), newList)\n",
    "    verList = oldList[::-1]\n",
    "    print(type(verList), verList)\n",
    "    oldList[0: 2] = []\n",
    "    print(type(oldList), oldList)\n",
    "    del oldList[0: 1]\n",
    "    print(type(oldList), oldList)\n",
    "    pass\n",
    "    \n",
    "    var = (('a1'), ('c2'))\n",
    "    varDict1 = dict(var)\n",
    "    print(varDict1, 'c' in varDict1, ('s' in varDict1))\n",
    "    var2 = (('a', '10'), ('b', '3'))\n",
    "    varDict2 = dict(var2)\n",
    "    print(varDict2)\n",
    "    varDict2.update(varDict1)\n",
    "    print(varDict2, varDict2.get('b'), varDict2.get('d'), varDict2.keys(), varDict2.values(), varDict2.items())\n",
    "    pass\n",
    "\n",
    "tesPip()"
   ]
  },
  {
   "cell_type": "code",
   "execution_count": 2,
   "metadata": {},
   "outputs": [
    {
     "ename": "TypeError",
     "evalue": "object of type 'int' has no len()",
     "output_type": "error",
     "traceback": [
      "\u001b[1;31m---------------------------------------------------------------------------\u001b[0m",
      "\u001b[1;31mTypeError\u001b[0m                                 Traceback (most recent call last)",
      "\u001b[1;32m<ipython-input-2-aa328cb41e39>\u001b[0m in \u001b[0;36m<module>\u001b[1;34m()\u001b[0m\n\u001b[0;32m     12\u001b[0m     \u001b[1;32mpass\u001b[0m\u001b[1;33m\u001b[0m\u001b[0m\n\u001b[0;32m     13\u001b[0m \u001b[1;33m\u001b[0m\u001b[0m\n\u001b[1;32m---> 14\u001b[1;33m \u001b[0minput_password\u001b[0m\u001b[1;33m(\u001b[0m\u001b[0mtime\u001b[0m\u001b[1;33m.\u001b[0m\u001b[0mlocaltime\u001b[0m\u001b[1;33m(\u001b[0m\u001b[1;33m)\u001b[0m\u001b[1;33m,\u001b[0m \u001b[1;34m\"showme\"\u001b[0m\u001b[1;33m)\u001b[0m\u001b[1;33m\u001b[0m\u001b[0m\n\u001b[0m",
      "\u001b[1;32mS:\\Programs\\Anaconda\\lib\\site-packages\\click\\core.py\u001b[0m in \u001b[0;36m__call__\u001b[1;34m(self, *args, **kwargs)\u001b[0m\n\u001b[0;32m    720\u001b[0m     \u001b[1;32mdef\u001b[0m \u001b[0m__call__\u001b[0m\u001b[1;33m(\u001b[0m\u001b[0mself\u001b[0m\u001b[1;33m,\u001b[0m \u001b[1;33m*\u001b[0m\u001b[0margs\u001b[0m\u001b[1;33m,\u001b[0m \u001b[1;33m**\u001b[0m\u001b[0mkwargs\u001b[0m\u001b[1;33m)\u001b[0m\u001b[1;33m:\u001b[0m\u001b[1;33m\u001b[0m\u001b[0m\n\u001b[0;32m    721\u001b[0m         \u001b[1;34m\"\"\"Alias for :meth:`main`.\"\"\"\u001b[0m\u001b[1;33m\u001b[0m\u001b[0m\n\u001b[1;32m--> 722\u001b[1;33m         \u001b[1;32mreturn\u001b[0m \u001b[0mself\u001b[0m\u001b[1;33m.\u001b[0m\u001b[0mmain\u001b[0m\u001b[1;33m(\u001b[0m\u001b[1;33m*\u001b[0m\u001b[0margs\u001b[0m\u001b[1;33m,\u001b[0m \u001b[1;33m**\u001b[0m\u001b[0mkwargs\u001b[0m\u001b[1;33m)\u001b[0m\u001b[1;33m\u001b[0m\u001b[0m\n\u001b[0m\u001b[0;32m    723\u001b[0m \u001b[1;33m\u001b[0m\u001b[0m\n\u001b[0;32m    724\u001b[0m \u001b[1;33m\u001b[0m\u001b[0m\n",
      "\u001b[1;32mS:\\Programs\\Anaconda\\lib\\site-packages\\click\\core.py\u001b[0m in \u001b[0;36mmain\u001b[1;34m(self, args, prog_name, complete_var, standalone_mode, **extra)\u001b[0m\n\u001b[0;32m    694\u001b[0m         \u001b[1;32mtry\u001b[0m\u001b[1;33m:\u001b[0m\u001b[1;33m\u001b[0m\u001b[0m\n\u001b[0;32m    695\u001b[0m             \u001b[1;32mtry\u001b[0m\u001b[1;33m:\u001b[0m\u001b[1;33m\u001b[0m\u001b[0m\n\u001b[1;32m--> 696\u001b[1;33m                 \u001b[1;32mwith\u001b[0m \u001b[0mself\u001b[0m\u001b[1;33m.\u001b[0m\u001b[0mmake_context\u001b[0m\u001b[1;33m(\u001b[0m\u001b[0mprog_name\u001b[0m\u001b[1;33m,\u001b[0m \u001b[0margs\u001b[0m\u001b[1;33m,\u001b[0m \u001b[1;33m**\u001b[0m\u001b[0mextra\u001b[0m\u001b[1;33m)\u001b[0m \u001b[1;32mas\u001b[0m \u001b[0mctx\u001b[0m\u001b[1;33m:\u001b[0m\u001b[1;33m\u001b[0m\u001b[0m\n\u001b[0m\u001b[0;32m    697\u001b[0m                     \u001b[0mrv\u001b[0m \u001b[1;33m=\u001b[0m \u001b[0mself\u001b[0m\u001b[1;33m.\u001b[0m\u001b[0minvoke\u001b[0m\u001b[1;33m(\u001b[0m\u001b[0mctx\u001b[0m\u001b[1;33m)\u001b[0m\u001b[1;33m\u001b[0m\u001b[0m\n\u001b[0;32m    698\u001b[0m                     \u001b[1;32mif\u001b[0m \u001b[1;32mnot\u001b[0m \u001b[0mstandalone_mode\u001b[0m\u001b[1;33m:\u001b[0m\u001b[1;33m\u001b[0m\u001b[0m\n",
      "\u001b[1;32mS:\\Programs\\Anaconda\\lib\\site-packages\\click\\core.py\u001b[0m in \u001b[0;36mmake_context\u001b[1;34m(self, info_name, args, parent, **extra)\u001b[0m\n\u001b[0;32m    619\u001b[0m         \u001b[0mctx\u001b[0m \u001b[1;33m=\u001b[0m \u001b[0mContext\u001b[0m\u001b[1;33m(\u001b[0m\u001b[0mself\u001b[0m\u001b[1;33m,\u001b[0m \u001b[0minfo_name\u001b[0m\u001b[1;33m=\u001b[0m\u001b[0minfo_name\u001b[0m\u001b[1;33m,\u001b[0m \u001b[0mparent\u001b[0m\u001b[1;33m=\u001b[0m\u001b[0mparent\u001b[0m\u001b[1;33m,\u001b[0m \u001b[1;33m**\u001b[0m\u001b[0mextra\u001b[0m\u001b[1;33m)\u001b[0m\u001b[1;33m\u001b[0m\u001b[0m\n\u001b[0;32m    620\u001b[0m         \u001b[1;32mwith\u001b[0m \u001b[0mctx\u001b[0m\u001b[1;33m.\u001b[0m\u001b[0mscope\u001b[0m\u001b[1;33m(\u001b[0m\u001b[0mcleanup\u001b[0m\u001b[1;33m=\u001b[0m\u001b[1;32mFalse\u001b[0m\u001b[1;33m)\u001b[0m\u001b[1;33m:\u001b[0m\u001b[1;33m\u001b[0m\u001b[0m\n\u001b[1;32m--> 621\u001b[1;33m             \u001b[0mself\u001b[0m\u001b[1;33m.\u001b[0m\u001b[0mparse_args\u001b[0m\u001b[1;33m(\u001b[0m\u001b[0mctx\u001b[0m\u001b[1;33m,\u001b[0m \u001b[0margs\u001b[0m\u001b[1;33m)\u001b[0m\u001b[1;33m\u001b[0m\u001b[0m\n\u001b[0m\u001b[0;32m    622\u001b[0m         \u001b[1;32mreturn\u001b[0m \u001b[0mctx\u001b[0m\u001b[1;33m\u001b[0m\u001b[0m\n\u001b[0;32m    623\u001b[0m \u001b[1;33m\u001b[0m\u001b[0m\n",
      "\u001b[1;32mS:\\Programs\\Anaconda\\lib\\site-packages\\click\\core.py\u001b[0m in \u001b[0;36mparse_args\u001b[1;34m(self, ctx, args)\u001b[0m\n\u001b[0;32m    874\u001b[0m     \u001b[1;32mdef\u001b[0m \u001b[0mparse_args\u001b[0m\u001b[1;33m(\u001b[0m\u001b[0mself\u001b[0m\u001b[1;33m,\u001b[0m \u001b[0mctx\u001b[0m\u001b[1;33m,\u001b[0m \u001b[0margs\u001b[0m\u001b[1;33m)\u001b[0m\u001b[1;33m:\u001b[0m\u001b[1;33m\u001b[0m\u001b[0m\n\u001b[0;32m    875\u001b[0m         \u001b[0mparser\u001b[0m \u001b[1;33m=\u001b[0m \u001b[0mself\u001b[0m\u001b[1;33m.\u001b[0m\u001b[0mmake_parser\u001b[0m\u001b[1;33m(\u001b[0m\u001b[0mctx\u001b[0m\u001b[1;33m)\u001b[0m\u001b[1;33m\u001b[0m\u001b[0m\n\u001b[1;32m--> 876\u001b[1;33m         \u001b[0mopts\u001b[0m\u001b[1;33m,\u001b[0m \u001b[0margs\u001b[0m\u001b[1;33m,\u001b[0m \u001b[0mparam_order\u001b[0m \u001b[1;33m=\u001b[0m \u001b[0mparser\u001b[0m\u001b[1;33m.\u001b[0m\u001b[0mparse_args\u001b[0m\u001b[1;33m(\u001b[0m\u001b[0margs\u001b[0m\u001b[1;33m=\u001b[0m\u001b[0margs\u001b[0m\u001b[1;33m)\u001b[0m\u001b[1;33m\u001b[0m\u001b[0m\n\u001b[0m\u001b[0;32m    877\u001b[0m \u001b[1;33m\u001b[0m\u001b[0m\n\u001b[0;32m    878\u001b[0m         for param in iter_params_for_processing(\n",
      "\u001b[1;32mS:\\Programs\\Anaconda\\lib\\site-packages\\click\\parser.py\u001b[0m in \u001b[0;36mparse_args\u001b[1;34m(self, args)\u001b[0m\n\u001b[0;32m    265\u001b[0m         \u001b[0mstate\u001b[0m \u001b[1;33m=\u001b[0m \u001b[0mParsingState\u001b[0m\u001b[1;33m(\u001b[0m\u001b[0margs\u001b[0m\u001b[1;33m)\u001b[0m\u001b[1;33m\u001b[0m\u001b[0m\n\u001b[0;32m    266\u001b[0m         \u001b[1;32mtry\u001b[0m\u001b[1;33m:\u001b[0m\u001b[1;33m\u001b[0m\u001b[0m\n\u001b[1;32m--> 267\u001b[1;33m             \u001b[0mself\u001b[0m\u001b[1;33m.\u001b[0m\u001b[0m_process_args_for_options\u001b[0m\u001b[1;33m(\u001b[0m\u001b[0mstate\u001b[0m\u001b[1;33m)\u001b[0m\u001b[1;33m\u001b[0m\u001b[0m\n\u001b[0m\u001b[0;32m    268\u001b[0m             \u001b[0mself\u001b[0m\u001b[1;33m.\u001b[0m\u001b[0m_process_args_for_args\u001b[0m\u001b[1;33m(\u001b[0m\u001b[0mstate\u001b[0m\u001b[1;33m)\u001b[0m\u001b[1;33m\u001b[0m\u001b[0m\n\u001b[0;32m    269\u001b[0m         \u001b[1;32mexcept\u001b[0m \u001b[0mUsageError\u001b[0m\u001b[1;33m:\u001b[0m\u001b[1;33m\u001b[0m\u001b[0m\n",
      "\u001b[1;32mS:\\Programs\\Anaconda\\lib\\site-packages\\click\\parser.py\u001b[0m in \u001b[0;36m_process_args_for_options\u001b[1;34m(self, state)\u001b[0m\n\u001b[0;32m    285\u001b[0m         \u001b[1;32mwhile\u001b[0m \u001b[0mstate\u001b[0m\u001b[1;33m.\u001b[0m\u001b[0mrargs\u001b[0m\u001b[1;33m:\u001b[0m\u001b[1;33m\u001b[0m\u001b[0m\n\u001b[0;32m    286\u001b[0m             \u001b[0marg\u001b[0m \u001b[1;33m=\u001b[0m \u001b[0mstate\u001b[0m\u001b[1;33m.\u001b[0m\u001b[0mrargs\u001b[0m\u001b[1;33m.\u001b[0m\u001b[0mpop\u001b[0m\u001b[1;33m(\u001b[0m\u001b[1;36m0\u001b[0m\u001b[1;33m)\u001b[0m\u001b[1;33m\u001b[0m\u001b[0m\n\u001b[1;32m--> 287\u001b[1;33m             \u001b[0marglen\u001b[0m \u001b[1;33m=\u001b[0m \u001b[0mlen\u001b[0m\u001b[1;33m(\u001b[0m\u001b[0marg\u001b[0m\u001b[1;33m)\u001b[0m\u001b[1;33m\u001b[0m\u001b[0m\n\u001b[0m\u001b[0;32m    288\u001b[0m             \u001b[1;31m# Double dashes always handled explicitly regardless of what\u001b[0m\u001b[1;33m\u001b[0m\u001b[1;33m\u001b[0m\u001b[0m\n\u001b[0;32m    289\u001b[0m             \u001b[1;31m# prefixes are valid.\u001b[0m\u001b[1;33m\u001b[0m\u001b[1;33m\u001b[0m\u001b[0m\n",
      "\u001b[1;31mTypeError\u001b[0m: object of type 'int' has no len()"
     ]
    }
   ],
   "source": [
    "# click operations, and something wrong in the cell\n",
    "import click, time\n",
    "\n",
    "@click.command()\n",
    "@click.option('--times', default = 2)\n",
    "@click.option('--password', prompt = True, hide_input = True, confirmation_prompt = True)\n",
    "def input_password(times, password):\n",
    "    print('<input_password>', time.localtime())\n",
    "    for t in range(times):\n",
    "        click.echo('Which times: %s' % t)\n",
    "    click.echo('Input Password: %s' % password)\n",
    "    pass\n",
    "\n",
    "input_password(time.localtime(), \"showme\")"
   ]
  },
  {
   "cell_type": "code",
   "execution_count": null,
   "metadata": {
    "collapsed": true
   },
   "outputs": [],
   "source": []
  }
 ],
 "metadata": {
  "kernelspec": {
   "display_name": "Python 3",
   "language": "python",
   "name": "python3"
  },
  "language_info": {
   "codemirror_mode": {
    "name": "ipython",
    "version": 3
   },
   "file_extension": ".py",
   "mimetype": "text/x-python",
   "name": "python",
   "nbconvert_exporter": "python",
   "pygments_lexer": "ipython3",
   "version": "3.6.1"
  }
 },
 "nbformat": 4,
 "nbformat_minor": 2
}
