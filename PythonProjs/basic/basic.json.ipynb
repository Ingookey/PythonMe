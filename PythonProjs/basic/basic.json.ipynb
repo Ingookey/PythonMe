{
 "cells": [
  {
   "cell_type": "code",
   "execution_count": 2,
   "metadata": {
    "collapsed": true
   },
   "outputs": [],
   "source": [
    "# coding: utf-8\n",
    "import json"
   ]
  },
  {
   "cell_type": "code",
   "execution_count": 7,
   "metadata": {},
   "outputs": [
    {
     "name": "stdout",
     "output_type": "stream",
     "text": [
      "[executeJson] normal data： {'num': 1, 'name': 'json test', 'url': 'http://www.runoob.com'}\n",
      "[executeJson] json object： {\"num\": 1, \"name\": \"json test\", \"url\": \"http://www.runoob.com\"}\n",
      "data2['name']: json test\tdata2['url']: http://www.runoob.com\n",
      "取Json数据:  {'num': 1, 'name': 'json test', 'url': 'http://www.runoob.com'} <class 'dict'>\n"
     ]
    }
   ],
   "source": [
    "def executeJson():\n",
    "    data = {\n",
    "        'num': 1,\n",
    "        'name': 'json test',\n",
    "        'url': 'http://www.runoob.com'\n",
    "    }\n",
    "\n",
    "    json_str = json.dumps(data)\n",
    "    print(\"[executeJson] normal data：\", repr(data))\n",
    "    print(\"[executeJson] json object：\", json_str)\n",
    "\n",
    "    # 将 JSON 对象转换为 Python 字典\n",
    "    data2 = json.loads(json_str)\n",
    "    print(\"data2['name']: {0}\\tdata2['url']: {1}\".format(data2['name'], data2['url']))\n",
    "\n",
    "    # 写入Json数据\n",
    "    with open('../config/testJson.json', 'w') as f:\n",
    "        json.dump(data, f)\n",
    "    # 读取Json数据\n",
    "    with open('../config/testJson.json', 'r') as f:\n",
    "        data = json.load(f)\n",
    "        print(\"读取Json数据: \", data, type(data))\n",
    "    pass\n",
    "\n",
    "executeJson()"
   ]
  },
  {
   "cell_type": "code",
   "execution_count": null,
   "metadata": {
    "collapsed": true
   },
   "outputs": [],
   "source": []
  }
 ],
 "metadata": {
  "kernelspec": {
   "display_name": "Python 3",
   "language": "python",
   "name": "python3"
  },
  "language_info": {
   "codemirror_mode": {
    "name": "ipython",
    "version": 3
   },
   "file_extension": ".py",
   "mimetype": "text/x-python",
   "name": "python",
   "nbconvert_exporter": "python",
   "pygments_lexer": "ipython3",
   "version": "3.6.1"
  }
 },
 "nbformat": 4,
 "nbformat_minor": 2
}
