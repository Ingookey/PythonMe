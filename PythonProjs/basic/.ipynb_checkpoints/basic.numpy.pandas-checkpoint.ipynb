{
 "cells": [
  {
   "cell_type": "code",
   "execution_count": null,
   "metadata": {
    "collapsed": true
   },
   "outputs": [],
   "source": [
    "**numpy & pandas**\n",
    "- movie show https://morvanzhou.github.io/tutorials/data-manipulation/np-pd/\n",
    "- cookbook https://pandas.pydata.org/pandas-docs/stable/tutorials.html#pandas-cookbook\n",
    "    \n",
    "    "
   ]
  },
  {
   "cell_type": "code",
   "execution_count": 2,
   "metadata": {
    "collapsed": true
   },
   "outputs": [],
   "source": [
    "## numpy\n",
    "import numpy as np"
   ]
  },
  {
   "cell_type": "code",
   "execution_count": null,
   "metadata": {
    "collapsed": true
   },
   "outputs": [],
   "source": [
    "# numpy.array(object, dtype = None, copy = True, order = None, subok = False, ndmin = 0)\n",
    "ar = np.array([3, 7, 9])\n",
    "br = np.array([[11, 14], [21, 25]]) # 二维\n",
    "print(ar, '\\t', br)\n",
    "\n",
    "cr = np.array([1,  2,  3, 4, 5], ndmin =  2) # 指定最为二维\n",
    "dr = np.array([1,  2,  3], dtype = complex)\n",
    "print(cr, '\\t', dr)"
   ]
  },
  {
   "cell_type": "code",
   "execution_count": null,
   "metadata": {
    "collapsed": true
   },
   "outputs": [],
   "source": [
    "dt = np.dtype([('name', 'S20'), ('age', np.int8), ('score', 'f4')])\n",
    "ar = np.array([('alex', 10, 89.0), ('june', 20, 78), ('jie', 30, 90)], dtype=dt)\n",
    "print(dt, '\\t', ar, '\\t',ar.itemsize)\n",
    "'''\n",
    "内建类型都有一个唯一定义它的字符代码：\n",
    "'b'：布尔值\n",
    "'i'：符号整数\t'u'：无符号整数\n",
    "'f'：浮点\t\t     'c'：复数浮点\n",
    "'m'：时间间隔\t   'M'：日期时间\n",
    "'O'：Python对象\t'S', 'a'：字节串\n",
    "'U'：Unicode\t        'V'：原始数据(void)\n",
    "'''"
   ]
  },
  {
   "cell_type": "code",
   "execution_count": null,
   "metadata": {
    "collapsed": true,
    "scrolled": true
   },
   "outputs": [],
   "source": [
    "# ndarray.shape 数组的维度 & 如何更改维度\n",
    "ar = np.array([[1,2,3],[4,5,6]])\n",
    "print(ar.shape)\n",
    "\n",
    "ar = np.array([[1,2,3],[4,5,6]])\n",
    "ar.shape = (3, 2)\n",
    "print(ar.shape)\n",
    "\n",
    "br = ar.reshape(2, 3) # 必需赋给一个新的变量，原变量的维度不会变\n",
    "print(ar.shape, '\\t', br.shape)\n",
    "\n",
    "# ndarray.ndim 返回数组的维数\n",
    "ar = np.arange(24)\n",
    "print(ar, '\\t', ar.ndim)\n",
    "br = ar.reshape(2,4,3)\n",
    "print(br, '\\t', br.ndim)\n",
    "\n",
    "# numpy.itemsize 返回数组中每个元素的字节长度(dtype中元素的总长度)\n",
    "print(ar.dtype, '\\t', ar.itemsize)\n",
    "\n",
    "# numpy.flags  ndarray对象拥有以下属性，这个函数返回了它们的当前值\n",
    "#   C_CONTIGUOUS :  数组位于单一的、C 风格的连续区段内\n",
    "#   F_CONTIGUOUS :  数组位于单一的、Fortran 风格的连续区段内\n",
    "#   OWNDATA : 数组的内存从其它对象处借用\n",
    "#   WRITEABLE : 数据区域可写入。 将它设置为flase会锁定数据，使其只读\n",
    "#   ALIGNED : 数据和任何元素会为硬件适当对齐\n",
    "#   UPDATEIFCOPY : 这个数组是源数组的副本。当这个数组释放时，源数组会由这个数组中的元素更新\n",
    "print(ar.flags)"
   ]
  },
  {
   "cell_type": "code",
   "execution_count": null,
   "metadata": {},
   "outputs": [],
   "source": [
    "# numpy.empty\n",
    "#   创建指定形状和dtype的未初始化数组, 它使用以下构造函数：numpy.empty(shape, dtype = float, order = 'C') //F\n",
    "#   注意：数组元素为随机值，因为它们未初始化.\n",
    "ar = np.empty([3, 2], dtype =  int)\n",
    "print(ar)\n",
    "\n",
    "# numpy.zeros\n",
    "#   以0填充新数组 numpy.zeros(shape, dtype = float, order = 'C')\n",
    "br = np.zeros(5) # 默认为float类型\n",
    "cr = np.zeros((2,2), dtype = [('x',  'i4'),  ('y',  'i4')]) # 新建自定义类型\n",
    "print(br, '\\t', cr)\n",
    "\n",
    "# numpy.ones\n",
    "#   返回特定大小，以1填充的新数组。numpy.ones(shape, dtype = None, order = 'C')\n",
    "dr = np.ones([2,2], dtype =  int) # 默认为float类型\n",
    "print(dr)\n",
    "\n",
    "# numpy.asarray(a, dtype = None, order = None) 来自现有数据的数组\n",
    "l1 = [7, 8, 9]\n",
    "l2 = (70, 80, 90)\n",
    "l3 = ([56, 78], [43, 13, 33]) # l4...\n",
    "ar1 = np.asarray(l1)\n",
    "ar2 = np.asarray(l2,dtype = float)\n",
    "ar3 = np.asarray(l3)\n",
    "print(ar1, '\\t', ar2, '\\t', ar3)\n",
    "\n",
    "# numpy.frombuffer(buffer, dtype = float, count = -1, offset = 0) 将缓冲区解释为一维数组\n",
    "#   count: 需要读取的数据数量，默认为-1，读取所有数据\n",
    "#   offset: 需要读取的起始位置，默认为0\n",
    "if False:\n",
    "    st =  'tyyfrombufferbuffe'\n",
    "    ar = np.frombuffer(st, dtype = 's1')\n",
    "    print(ar)\n",
    "\n",
    "# numpy.fromiter(iterable, dtype, count = -1)\n",
    "#   从任何可迭代对象构建一个ndarray对象，返回一个新的一维数组\n",
    "#   count 需要读取的数据数量，默认为-1，读取所有数据\n",
    "l1 = range(6)\n",
    "it = iter(l1)\n",
    "ar = np.fromiter(it, dtype = float)\n",
    "print(ar)\n",
    "\n",
    "# numpy.arange(start, stop, step, dtype)\n",
    "#   返回ndarray对象，包含给定范围内的等间隔值。\n",
    "ar = np.arange(5, dtype = 'i2')\n",
    "br = np.arange(0, 100, 6, dtype = float)\n",
    "print(ar, '\\t', br)\n",
    "\n",
    "# numpy.linspace(start, stop, num, endpoint, retstep, dtype)\n",
    "#   在此函数中，指定了范围之间的均匀间隔数量，而不是步长\n",
    "#   endpoint 序列中是否包含stop值，默认为true\n",
    "#   retstep 如果为true, 将相关步长之类的信息也打印出来\n",
    "ar = np.linspace(10, 20,  5, endpoint =  False)\n",
    "ar1 = np.linspace(10, 20,  5, endpoint =  False, retstep = True, dtype = 'i2')\n",
    "br = np.linspace(0, 50, 10, retstep = True)\n",
    "print(ar, '\\t', ar1, '\\t', br)\n",
    "\n",
    "# numpy.logscale(start, stop, num, endpoint, base, dtype)\n",
    "#   返回ndarray对象，其中包含在对数刻度上均匀分布的数字, 刻度的开始和结束端点是某个底数的幂，通常为 10, 即base的值\n",
    "ar = np.logspace(1, 10, num =10,  base  =  2)\n",
    "print(ar)"
   ]
  },
  {
   "cell_type": "code",
   "execution_count": 28,
   "metadata": {},
   "outputs": [
    {
     "name": "stdout",
     "output_type": "stream",
     "text": [
      "[ 6  7  8  9 10 11]\n",
      "[ 5.  7.  8.]\n",
      "[ 2.0+6.j  3.5+5.j]\n"
     ]
    }
   ],
   "source": [
    "# 切片和索引 (start: stop: step), 它标记的是位置\n",
    "# 基本索引\n",
    "if False:\n",
    "    a = np.arange(10)\n",
    "    s1 = slice(2, 7, 2)\n",
    "    print(a[s1])\n",
    "    print(a[2: 7: 2])\n",
    "    print(a[5])\n",
    "    print(a[2:5], '\\t', a[2:], '\\t', a[:5])\n",
    "    \n",
    "    b = np.array([[1,2,3],[3,4,5],[4,5,6]])\n",
    "    print(b[1:])\n",
    "    print(b[2, ...]) #第二行的元素\n",
    "    print(b[..., 2]) #第二列的元素\n",
    "    print(b[..., 1:])\n",
    "    pass\n",
    "\n",
    "# 整数索引\n",
    "if False:\n",
    "    x = np.array([[1,  2],  [3,  4],  [5,  6]])\n",
    "    y = x[[0,1,2],  [0,1,0]]\n",
    "    print(y) # 输出(0, 0), (1,1), (2,0)元素的值\n",
    "    \n",
    "    x = np.array([[  0,  1,  2],[  3,  4,  5],[  6,  7,  8],[  9,  10,  11]])  \n",
    "    rows = np.array([[0,0], [3,3]]) \n",
    "    cols = np.array([[0,2], [0,2]])  #(0, 0), (0, 2), (3, 0), (3, 2)\n",
    "    y = x[rows, cols]\n",
    "    print(y)\n",
    "    \n",
    "    z = x[1: 4, 1: 3]\n",
    "    print(z, '\\n')\n",
    "    \n",
    "    u = x[1: 4, [1, 2]]\n",
    "    print(u)\n",
    "    pass\n",
    "\n",
    "# 布尔索引\n",
    "if True:\n",
    "    x = np.array([[  0,  1,  2], [  3,  4,  5], [  6,  7,  8], [  9,  10,  11]])\n",
    "    y = x[x >= 6]\n",
    "    print(y)\n",
    "    \n",
    "    x1 = np.array([np.nan, 5, 7, 8, np.nan])\n",
    "    y1 = x1[~np.isnan(x1)] # ~(取补运算符)来过滤NaN\n",
    "    print(y1)\n",
    "    \n",
    "    x2 = np.array([1,  2+6j,  5,  3.5+5j])\n",
    "    y2 = x2[np.iscomplex(x2)]\n",
    "    print(y2)\n",
    "    pass\n"
   ]
  },
  {
   "cell_type": "raw",
   "metadata": {},
   "source": [
    "## pandas"
   ]
  },
  {
   "cell_type": "code",
   "execution_count": null,
   "metadata": {
    "collapsed": true
   },
   "outputs": [],
   "source": []
  }
 ],
 "metadata": {
  "kernelspec": {
   "display_name": "Python 3",
   "language": "python",
   "name": "python3"
  },
  "language_info": {
   "codemirror_mode": {
    "name": "ipython",
    "version": 3
   },
   "file_extension": ".py",
   "mimetype": "text/x-python",
   "name": "python",
   "nbconvert_exporter": "python",
   "pygments_lexer": "ipython3",
   "version": "3.6.1"
  }
 },
 "nbformat": 4,
 "nbformat_minor": 2
}
