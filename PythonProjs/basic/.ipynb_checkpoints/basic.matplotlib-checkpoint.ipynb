{
 "cells": [
  {
   "cell_type": "markdown",
   "metadata": {
    "collapsed": true
   },
   "source": [
    "[高效使用 Python 可视化工具 Matplotlib](http://python.jobbole.com/87831/)\n",
    "![认识图表](http://omv02lbj4.bkt.clouddn.com/re-3.jpg)\n",
    "\n",
    "seaborn和ggplot"
   ]
  },
  {
   "cell_type": "code",
   "execution_count": 6,
   "metadata": {
    "collapsed": true
   },
   "outputs": [],
   "source": [
    "from pylab import *\n",
    "# pylab是matplotlib的一个模块，安装了matplotlib即可"
   ]
  },
  {
   "cell_type": "code",
   "execution_count": null,
   "metadata": {
    "collapsed": true
   },
   "outputs": [],
   "source": [
    "X = np.linspace(-np.pi, np.pi, 256, endpoint=True)\n",
    "C, S = np.cos(X), np.sin(X)\n",
    "\n",
    "plot(X, C)\n",
    "plot(X, S)\n",
    "show()"
   ]
  },
  {
   "cell_type": "code",
   "execution_count": 1,
   "metadata": {},
   "outputs": [
    {
     "ename": "NameError",
     "evalue": "name 'figure' is not defined",
     "output_type": "error",
     "traceback": [
      "\u001b[1;31m---------------------------------------------------------------------------\u001b[0m",
      "\u001b[1;31mNameError\u001b[0m                                 Traceback (most recent call last)",
      "\u001b[1;32m<ipython-input-1-3a33a705c284>\u001b[0m in \u001b[0;36m<module>\u001b[1;34m()\u001b[0m\n\u001b[0;32m      1\u001b[0m \u001b[1;31m# 创建一个 8 * 6 点（point）的图，并设置分辨率为 80\u001b[0m\u001b[1;33m\u001b[0m\u001b[1;33m\u001b[0m\u001b[0m\n\u001b[1;32m----> 2\u001b[1;33m \u001b[0mfigure\u001b[0m\u001b[1;33m(\u001b[0m\u001b[0mfigsize\u001b[0m\u001b[1;33m=\u001b[0m\u001b[1;33m(\u001b[0m\u001b[1;36m8\u001b[0m\u001b[1;33m,\u001b[0m\u001b[1;36m6\u001b[0m\u001b[1;33m)\u001b[0m\u001b[1;33m,\u001b[0m \u001b[0mdpi\u001b[0m\u001b[1;33m=\u001b[0m\u001b[1;36m80\u001b[0m\u001b[1;33m)\u001b[0m\u001b[1;33m\u001b[0m\u001b[0m\n\u001b[0m\u001b[0;32m      3\u001b[0m \u001b[1;31m# 创建一个新的 1 * 1 的子图，接下来的图样绘制在其中的第 1 块\u001b[0m\u001b[1;33m\u001b[0m\u001b[1;33m\u001b[0m\u001b[0m\n\u001b[0;32m      4\u001b[0m \u001b[0msubplot\u001b[0m\u001b[1;33m(\u001b[0m\u001b[1;36m1\u001b[0m\u001b[1;33m,\u001b[0m\u001b[1;36m1\u001b[0m\u001b[1;33m,\u001b[0m\u001b[1;36m1\u001b[0m\u001b[1;33m)\u001b[0m\u001b[1;33m\u001b[0m\u001b[0m\n\u001b[0;32m      5\u001b[0m \u001b[1;33m\u001b[0m\u001b[0m\n",
      "\u001b[1;31mNameError\u001b[0m: name 'figure' is not defined"
     ]
    }
   ],
   "source": [
    "# 创建一个 8 * 6 点（point）的图，并设置分辨率为 80\n",
    "figure(figsize=(8,6), dpi=80)\n",
    "# 创建一个新的 1 * 1 的子图，接下来的图样绘制在其中的第 1 块\n",
    "subplot(1,1,1)\n",
    "\n",
    "X = np.linspace(-np.pi, np.pi, 256, endpoint=True)\n",
    "C, S = np.cos(X), np.sin(X)\n",
    "# 绘制余弦曲线，使用蓝色的、连续的、宽度为 1 个像素的线条(blue, yellow, greeen, )\n",
    "plot(X, C, color=\"blue\", linewidth=1.0, linestyle=\"-\", label=\"cos\")\n",
    "# 绘制正弦曲线，使用绿色的、连续的、宽度为 2 个像素的线条\n",
    "plot(X, S, color=\"yellow\", linewidth=2.0, linestyle=\"-\", label=\"sin\")\n",
    "legend(loc='upper left') # 图例的位置\n",
    "\n",
    "# 设置横轴的上下限 & 轴向记号\n",
    "xmin, xmax = X.min(), X.max()\n",
    "ymin, ymax = C.min(), C.max()\n",
    "dx = (xmax - xmin) * 0.2\n",
    "dy = (ymax - ymin) * 0.2\n",
    "xlim(xmin - dx, xmax + dx)\n",
    "#xticks(np.linspace(-4,4,9, endpoint=False))\n",
    "xticks([-np.pi, -np.pi/2, 0, np.pi/2, np.pi],\n",
    "          [r'$-\\pi$', r'$-\\pi/2$', r'$0$', r'$+\\pi/2$', r'$+\\pi$']) #使用了 LaTeX记号\n",
    "ylim(ymin - dy, ymax + dy)\n",
    "yticks(np.linspace(-1,1,5, endpoint=False))\n",
    "\n",
    "# 脊柱\n",
    "ax = gca()\n",
    "ax.spines['right'].set_color('none')\n",
    "ax.spines['top'].set_color('none')\n",
    "ax.xaxis.set_ticks_position('bottom')\n",
    "ax.spines['bottom'].set_position(('data', 0))\n",
    "ax.yaxis.set_ticks_position('left')\n",
    "ax.spines['left'].set_position(('data', 0))\n",
    "\n",
    "# 注释特殊点\n",
    "t = 2*np.pi/3\n",
    "plot([t,t],[0,np.cos(t)], color ='blue', linewidth=2.5, linestyle=\"--\") # 绘制的那条短线\n",
    "scatter([t,],[np.cos(t),], 50, color ='blue') # 绘制的圆点\n",
    "annotate(r'$\\sin(\\frac{2\\pi}{3})=\\frac{\\sqrt{3}}{2}$',\n",
    "         xy=(t, np.sin(t)), xycoords='data',\n",
    "         xytext=(+10, +30), textcoords='offset points', fontsize=16,\n",
    "         arrowprops=dict(arrowstyle=\"->\", connectionstyle=\"arc3,rad=.2\")) # 绘制的注释\n",
    "\n",
    "plot([t,t],[0,np.sin(t)], color ='red', linewidth=2.5, linestyle=\"--\")\n",
    "scatter([t,],[np.sin(t),], 50, color ='red')\n",
    "annotate(r'$\\cos(\\frac{2\\pi}{3})=-\\frac{1}{2}$',\n",
    "         xy=(t, np.cos(t)), xycoords='data',\n",
    "         xytext=(-90, -50), textcoords='offset points', fontsize=16,\n",
    "         arrowprops=dict(arrowstyle=\"->\", connectionstyle=\"arc3,rad=.2\"))\n",
    "\n",
    "# 其它设置\n",
    "for label in ax.get_xticklabels() + ax.get_yticklabels():\n",
    "    label.set_fontsize(16)\n",
    "    label.set_bbox(dict(facecolor='white', edgecolor='None', alpha=0.65 ))\n",
    "\n",
    "# 以分辨率 72来保存图片\n",
    "#savefig(\"output_1.png\",dpi=72)\n",
    "show()"
   ]
  },
  {
   "cell_type": "code",
   "execution_count": null,
   "metadata": {
    "collapsed": true
   },
   "outputs": [],
   "source": [
    "# 散点图\n",
    "n = 1024\n",
    "X = np.random.normal(0,1,n)\n",
    "Y = np.random.normal(0,1,n)\n",
    "\n",
    "scatter(X,Y)\n",
    "show()"
   ]
  },
  {
   "cell_type": "code",
   "execution_count": null,
   "metadata": {
    "collapsed": true
   },
   "outputs": [],
   "source": [
    "# 条形图\n",
    "n = 12\n",
    "X = np.arange(n)\n",
    "Y1 = (1-X/float(n)) * np.random.uniform(0.5,1.0,n)\n",
    "Y2 = (1-X/float(n)) * np.random.uniform(0.5,1.0,n)\n",
    "\n",
    "bar(X, +Y1, facecolor='#9999ff', edgecolor='white')\n",
    "bar(X, -Y2, facecolor='#ff9999', edgecolor='white')\n",
    "\n",
    "for x,y in zip(X,Y1):\n",
    "    text(x+0.4, y+0.05, '%.2f' % y, ha='center', va= 'bottom')\n",
    "\n",
    "ylim(-1.25, +1.25)\n",
    "show()"
   ]
  },
  {
   "cell_type": "code",
   "execution_count": null,
   "metadata": {
    "collapsed": true
   },
   "outputs": [],
   "source": [
    "# 等高线\n",
    "def f(x,y): return (1-x/2+x**5+y**3)*np.exp(-x**2-y**2)\n",
    "\n",
    "n = 256\n",
    "x = np.linspace(-3,3,n)\n",
    "y = np.linspace(-3,3,n)\n",
    "X,Y = np.meshgrid(x,y)\n",
    "\n",
    "contourf(X, Y, f(X,Y), 8, alpha=.75, cmap='jet')\n",
    "contour(X, Y, f(X,Y), 8, colors='black', linewidth=.5), show()"
   ]
  },
  {
   "cell_type": "code",
   "execution_count": null,
   "metadata": {
    "collapsed": true
   },
   "outputs": [],
   "source": [
    "# 灰度图\n",
    "def f(x,y): return (1-x/2+x**5+y**3)*np.exp(-x**2-y**2)\n",
    "\n",
    "n = 10\n",
    "x = np.linspace(-3,3,4*n)\n",
    "y = np.linspace(-3,c,3*n)\n",
    "X,Y = np.meshgrid(x,y)\n",
    "imshow(f(X,Y)), show()"
   ]
  },
  {
   "cell_type": "code",
   "execution_count": null,
   "metadata": {
    "collapsed": true
   },
   "outputs": [],
   "source": [
    "# 饼状图\n",
    "n = 20\n",
    "Z = np.random.uniform(0,1,n)\n",
    "pie(Z), show()"
   ]
  },
  {
   "cell_type": "code",
   "execution_count": null,
   "metadata": {
    "collapsed": true
   },
   "outputs": [],
   "source": [
    "# 量场图\n",
    "n = 8\n",
    "X,Y = np.mgrid[0:n, 0:n]\n",
    "quiver(X,Y), show()"
   ]
  },
  {
   "cell_type": "code",
   "execution_count": null,
   "metadata": {
    "collapsed": true
   },
   "outputs": [],
   "source": [
    "# 网格\n",
    "axes = gca()\n",
    "axes.set_xlim(0,4)\n",
    "axes.set_ylim(0,3)\n",
    "axes.set_xticklabels([])\n",
    "axes.set_yticklabels([])\n",
    "show()\n",
    "\n",
    "subplot(2,2,1)\n",
    "subplot(2,2,3)\n",
    "subplot(2,2,4)\n",
    "show()"
   ]
  },
  {
   "cell_type": "code",
   "execution_count": null,
   "metadata": {
    "collapsed": true
   },
   "outputs": [],
   "source": [
    "# 极轴图\n",
    "axes([0,0,1,1])\n",
    "\n",
    "N = 20\n",
    "theta = np.arange(0.0, 2*np.pi, 2*np.pi/N)\n",
    "radii = 10*np.random.rand(N)\n",
    "width = np.pi/4*np.random.rand(N)\n",
    "bars = bar(theta, radii, width=width, bottom=0.0)\n",
    "\n",
    "for r,bar in zip(radii, bars):\n",
    "    bar.set_facecolor( cm.jet(r/10.))\n",
    "    bar.set_alpha(0.5)\n",
    "\n",
    "show()"
   ]
  },
  {
   "cell_type": "code",
   "execution_count": null,
   "metadata": {
    "collapsed": true
   },
   "outputs": [],
   "source": [
    "# 3D图\n",
    "from pylab import *\n",
    "from mpl_toolkits.mplot3d import Axes3D\n",
    "\n",
    "ax = Axes3D(figure())\n",
    "X = np.arange(-4, 4, 0.25)\n",
    "Y = np.arange(-4, 4, 0.25)\n",
    "X, Y = np.meshgrid(X, Y)\n",
    "Z = np.sin(np.sqrt(X**2 + Y**2))\n",
    "\n",
    "ax.plot_surface(X, Y, Z, rstride=1, cstride=1, cmap='hot'), show()"
   ]
  },
  {
   "cell_type": "code",
   "execution_count": null,
   "metadata": {
    "collapsed": true
   },
   "outputs": [],
   "source": []
  },
  {
   "cell_type": "code",
   "execution_count": null,
   "metadata": {
    "collapsed": true
   },
   "outputs": [],
   "source": []
  },
  {
   "cell_type": "code",
   "execution_count": null,
   "metadata": {
    "collapsed": true
   },
   "outputs": [],
   "source": [
    "import pandas as pd\n",
    "import matplotlib.pyplot as plt\n",
    "from matplotlib.ticker import FuncFormatter\n",
    " \n",
    "df = pd.read_excel(\"https://github.com/chris1610/pbpython/blob/master/data/sample-salesv3.xlsx?raw=true\")\n",
    "df.head()"
   ]
  },
  {
   "cell_type": "code",
   "execution_count": null,
   "metadata": {
    "collapsed": true
   },
   "outputs": [],
   "source": []
  }
 ],
 "metadata": {
  "kernelspec": {
   "display_name": "Python 3",
   "language": "python",
   "name": "python3"
  },
  "language_info": {
   "codemirror_mode": {
    "name": "ipython",
    "version": 3
   },
   "file_extension": ".py",
   "mimetype": "text/x-python",
   "name": "python",
   "nbconvert_exporter": "python",
   "pygments_lexer": "ipython3",
   "version": "3.6.1"
  }
 },
 "nbformat": 4,
 "nbformat_minor": 2
}
